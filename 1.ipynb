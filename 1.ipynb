{
  "nbformat": 4,
  "nbformat_minor": 0,
  "metadata": {
    "colab": {
      "name": "1.ipynb",
      "provenance": [],
      "collapsed_sections": []
    },
    "kernelspec": {
      "display_name": "Python 3",
      "language": "python",
      "name": "python3"
    },
    "language_info": {
      "codemirror_mode": {
        "name": "ipython",
        "version": 3
      },
      "file_extension": ".py",
      "mimetype": "text/x-python",
      "name": "python",
      "nbconvert_exporter": "python",
      "pygments_lexer": "ipython3",
      "version": "3.8.5"
    }
  },
  "cells": [
    {
      "cell_type": "markdown",
      "metadata": {
        "id": "GdEu4aFr7EwI"
      },
      "source": [
        "## Argument Mining Practical Session\n",
        "\n",
        "## PART I - tf-idf\n",
        "\n",
        "To use this on Colab, run the following cells. (Authentication required).\n",
        "\n",
        "**IMPORTANT**: the folder `share` exists on **my** Google Drive. Make sure to change this with a folder of your choice on your Google Drive."
      ]
    },
    {
      "cell_type": "code",
      "metadata": {
        "colab": {
          "base_uri": "https://localhost:8080/"
        },
        "id": "e1PAtUQQ4XRp",
        "outputId": "e718ad7f-23b2-4d26-b804-0ebe89f27157"
      },
      "source": [
        "from google.colab import drive\n",
        "drive.mount('/content/gdrive')"
      ],
      "execution_count": null,
      "outputs": [
        {
          "output_type": "stream",
          "text": [
            "Mounted at /content/gdrive\n"
          ],
          "name": "stdout"
        }
      ]
    },
    {
      "cell_type": "markdown",
      "metadata": {
        "id": "r9uf63llZSeV"
      },
      "source": [
        "Folder `share` exists on my Google Drive. I navigate to this folder to store there the data."
      ]
    },
    {
      "cell_type": "code",
      "metadata": {
        "colab": {
          "base_uri": "https://localhost:8080/"
        },
        "id": "JtmnvrYp5iBe",
        "outputId": "a3232e9d-9f59-4ad8-f773-6e690f5ad105"
      },
      "source": [
        "%cd gdrive/MyDrive/share"
      ],
      "execution_count": null,
      "outputs": [
        {
          "output_type": "stream",
          "text": [
            "/content/gdrive/MyDrive/share\n"
          ],
          "name": "stdout"
        }
      ]
    },
    {
      "cell_type": "code",
      "metadata": {
        "colab": {
          "base_uri": "https://localhost:8080/"
        },
        "id": "2suNANYypWvj",
        "outputId": "0ff9de61-9ded-4c06-a956-c83c77bbee73"
      },
      "source": [
        "! ls"
      ],
      "execution_count": null,
      "outputs": [
        {
          "output_type": "stream",
          "text": [
            "abstrct  glove.6B.zip\n"
          ],
          "name": "stdout"
        }
      ]
    },
    {
      "cell_type": "markdown",
      "metadata": {
        "id": "TBaZ0hMe7Tq2"
      },
      "source": [
        "Now we are cloning the Dataset into our Google Drive (in the folder specified earlier)"
      ]
    },
    {
      "cell_type": "code",
      "metadata": {
        "colab": {
          "base_uri": "https://localhost:8080/"
        },
        "id": "WPSe0d2c54uT",
        "outputId": "a75da12f-885e-4ec9-8711-144eb3b00a3a"
      },
      "source": [
        "! git clone https://gitlab.com/tomaye/abstrct.git"
      ],
      "execution_count": null,
      "outputs": [
        {
          "output_type": "stream",
          "text": [
            "Cloning into 'abstrct'...\n",
            "remote: Enumerating objects: 1369, done.\u001b[K\n",
            "remote: Counting objects: 100% (1369/1369), done.\u001b[K\n",
            "remote: Compressing objects: 100% (1365/1365), done.\u001b[K\n",
            "remote: Total 1369 (delta 5), reused 1353 (delta 0), pack-reused 0\u001b[K\n",
            "Receiving objects: 100% (1369/1369), 1.11 MiB | 3.18 MiB/s, done.\n",
            "Resolving deltas: 100% (5/5), done.\n",
            "Checking out files: 100% (1406/1406), done.\n"
          ],
          "name": "stdout"
        }
      ]
    },
    {
      "cell_type": "code",
      "metadata": {
        "id": "Z9trUdrCZSeY"
      },
      "source": [
        "! wget http://nlp.stanford.edu/data/glove.6B.zip"
      ],
      "execution_count": null,
      "outputs": []
    },
    {
      "cell_type": "code",
      "metadata": {
        "id": "AHwTnp8rZSeZ",
        "colab": {
          "base_uri": "https://localhost:8080/"
        },
        "outputId": "964b61f6-a909-4a37-da83-b5ac0d597248"
      },
      "source": [
        "! unzip glove.6B.zip"
      ],
      "execution_count": null,
      "outputs": [
        {
          "output_type": "stream",
          "text": [
            "Archive:  glove.6B.zip\n",
            "  inflating: glove.6B.50d.txt        \n",
            "  inflating: glove.6B.100d.txt       \n",
            "  inflating: glove.6B.200d.txt       \n",
            "  inflating: glove.6B.300d.txt       \n"
          ],
          "name": "stdout"
        }
      ]
    },
    {
      "cell_type": "code",
      "metadata": {
        "id": "-K1yBleM6VAq",
        "colab": {
          "base_uri": "https://localhost:8080/"
        },
        "outputId": "73488bee-97ef-4a38-acf5-02bccaac32c0"
      },
      "source": [
        "! ls"
      ],
      "execution_count": null,
      "outputs": [
        {
          "output_type": "stream",
          "text": [
            "abstrct  glove.6B.zip\n"
          ],
          "name": "stdout"
        }
      ]
    },
    {
      "cell_type": "markdown",
      "metadata": {
        "id": "F_-bwMTC7bwg"
      },
      "source": [
        "We're good to go.\n",
        "\n",
        "## Argumentative vs Non Argumentative Classification\n",
        "\n",
        "**IMPORTANT** If you run locally (NOT COLAB) start from here.\n",
        "\n",
        "Let's begin with some imports..."
      ]
    },
    {
      "cell_type": "code",
      "metadata": {
        "id": "HYxqdaIK7CaN"
      },
      "source": [
        "import pandas as pd\n",
        "import nltk\n",
        "from nltk.corpus import movie_reviews, stopwords\n",
        "from nltk.stem import WordNetLemmatizer\n",
        "from nltk.tokenize import RegexpTokenizer\n",
        "from sklearn.model_selection import train_test_split, cross_val_score, cross_val_predict, GridSearchCV\n",
        "from sklearn.feature_extraction.text import TfidfVectorizer\n",
        "from sklearn.linear_model import SGDClassifier\n",
        "from sklearn.pipeline import Pipeline\n",
        "from sklearn.metrics import confusion_matrix, accuracy_score, classification_report\n",
        "import os\n",
        "import re"
      ],
      "execution_count": null,
      "outputs": []
    },
    {
      "cell_type": "code",
      "metadata": {
        "id": "Pafw9SofZSeb",
        "colab": {
          "base_uri": "https://localhost:8080/"
        },
        "outputId": "53287175-d949-4f50-8967-80315b3af3dc"
      },
      "source": [
        "nltk.download('book')"
      ],
      "execution_count": null,
      "outputs": [
        {
          "output_type": "stream",
          "text": [
            "[nltk_data] Downloading collection 'book'\n",
            "[nltk_data]    | \n",
            "[nltk_data]    | Downloading package abc to /root/nltk_data...\n",
            "[nltk_data]    |   Package abc is already up-to-date!\n",
            "[nltk_data]    | Downloading package brown to /root/nltk_data...\n",
            "[nltk_data]    |   Package brown is already up-to-date!\n",
            "[nltk_data]    | Downloading package chat80 to /root/nltk_data...\n",
            "[nltk_data]    |   Package chat80 is already up-to-date!\n",
            "[nltk_data]    | Downloading package cmudict to /root/nltk_data...\n",
            "[nltk_data]    |   Package cmudict is already up-to-date!\n",
            "[nltk_data]    | Downloading package conll2000 to /root/nltk_data...\n",
            "[nltk_data]    |   Package conll2000 is already up-to-date!\n",
            "[nltk_data]    | Downloading package conll2002 to /root/nltk_data...\n",
            "[nltk_data]    |   Package conll2002 is already up-to-date!\n",
            "[nltk_data]    | Downloading package dependency_treebank to\n",
            "[nltk_data]    |     /root/nltk_data...\n",
            "[nltk_data]    |   Package dependency_treebank is already up-to-date!\n",
            "[nltk_data]    | Downloading package genesis to /root/nltk_data...\n",
            "[nltk_data]    |   Package genesis is already up-to-date!\n",
            "[nltk_data]    | Downloading package gutenberg to /root/nltk_data...\n",
            "[nltk_data]    |   Package gutenberg is already up-to-date!\n",
            "[nltk_data]    | Downloading package ieer to /root/nltk_data...\n",
            "[nltk_data]    |   Package ieer is already up-to-date!\n",
            "[nltk_data]    | Downloading package inaugural to /root/nltk_data...\n",
            "[nltk_data]    |   Package inaugural is already up-to-date!\n",
            "[nltk_data]    | Downloading package movie_reviews to\n",
            "[nltk_data]    |     /root/nltk_data...\n",
            "[nltk_data]    |   Package movie_reviews is already up-to-date!\n",
            "[nltk_data]    | Downloading package nps_chat to /root/nltk_data...\n",
            "[nltk_data]    |   Package nps_chat is already up-to-date!\n",
            "[nltk_data]    | Downloading package names to /root/nltk_data...\n",
            "[nltk_data]    |   Package names is already up-to-date!\n",
            "[nltk_data]    | Downloading package ppattach to /root/nltk_data...\n",
            "[nltk_data]    |   Package ppattach is already up-to-date!\n",
            "[nltk_data]    | Downloading package reuters to /root/nltk_data...\n",
            "[nltk_data]    |   Package reuters is already up-to-date!\n",
            "[nltk_data]    | Downloading package senseval to /root/nltk_data...\n",
            "[nltk_data]    |   Package senseval is already up-to-date!\n",
            "[nltk_data]    | Downloading package state_union to /root/nltk_data...\n",
            "[nltk_data]    |   Package state_union is already up-to-date!\n",
            "[nltk_data]    | Downloading package stopwords to /root/nltk_data...\n",
            "[nltk_data]    |   Package stopwords is already up-to-date!\n",
            "[nltk_data]    | Downloading package swadesh to /root/nltk_data...\n",
            "[nltk_data]    |   Package swadesh is already up-to-date!\n",
            "[nltk_data]    | Downloading package timit to /root/nltk_data...\n",
            "[nltk_data]    |   Package timit is already up-to-date!\n",
            "[nltk_data]    | Downloading package treebank to /root/nltk_data...\n",
            "[nltk_data]    |   Package treebank is already up-to-date!\n",
            "[nltk_data]    | Downloading package toolbox to /root/nltk_data...\n",
            "[nltk_data]    |   Package toolbox is already up-to-date!\n",
            "[nltk_data]    | Downloading package udhr to /root/nltk_data...\n",
            "[nltk_data]    |   Package udhr is already up-to-date!\n",
            "[nltk_data]    | Downloading package udhr2 to /root/nltk_data...\n",
            "[nltk_data]    |   Package udhr2 is already up-to-date!\n",
            "[nltk_data]    | Downloading package unicode_samples to\n",
            "[nltk_data]    |     /root/nltk_data...\n",
            "[nltk_data]    |   Package unicode_samples is already up-to-date!\n",
            "[nltk_data]    | Downloading package webtext to /root/nltk_data...\n",
            "[nltk_data]    |   Package webtext is already up-to-date!\n",
            "[nltk_data]    | Downloading package wordnet to /root/nltk_data...\n",
            "[nltk_data]    |   Package wordnet is already up-to-date!\n",
            "[nltk_data]    | Downloading package wordnet_ic to /root/nltk_data...\n",
            "[nltk_data]    |   Package wordnet_ic is already up-to-date!\n",
            "[nltk_data]    | Downloading package words to /root/nltk_data...\n",
            "[nltk_data]    |   Package words is already up-to-date!\n",
            "[nltk_data]    | Downloading package maxent_treebank_pos_tagger to\n",
            "[nltk_data]    |     /root/nltk_data...\n",
            "[nltk_data]    |   Package maxent_treebank_pos_tagger is already up-\n",
            "[nltk_data]    |       to-date!\n",
            "[nltk_data]    | Downloading package maxent_ne_chunker to\n",
            "[nltk_data]    |     /root/nltk_data...\n",
            "[nltk_data]    |   Package maxent_ne_chunker is already up-to-date!\n",
            "[nltk_data]    | Downloading package universal_tagset to\n",
            "[nltk_data]    |     /root/nltk_data...\n",
            "[nltk_data]    |   Package universal_tagset is already up-to-date!\n",
            "[nltk_data]    | Downloading package punkt to /root/nltk_data...\n",
            "[nltk_data]    |   Package punkt is already up-to-date!\n",
            "[nltk_data]    | Downloading package book_grammars to\n",
            "[nltk_data]    |     /root/nltk_data...\n",
            "[nltk_data]    |   Package book_grammars is already up-to-date!\n",
            "[nltk_data]    | Downloading package city_database to\n",
            "[nltk_data]    |     /root/nltk_data...\n",
            "[nltk_data]    |   Package city_database is already up-to-date!\n",
            "[nltk_data]    | Downloading package tagsets to /root/nltk_data...\n",
            "[nltk_data]    |   Package tagsets is already up-to-date!\n",
            "[nltk_data]    | Downloading package panlex_swadesh to\n",
            "[nltk_data]    |     /root/nltk_data...\n",
            "[nltk_data]    |   Package panlex_swadesh is already up-to-date!\n",
            "[nltk_data]    | Downloading package averaged_perceptron_tagger to\n",
            "[nltk_data]    |     /root/nltk_data...\n",
            "[nltk_data]    |   Package averaged_perceptron_tagger is already up-\n",
            "[nltk_data]    |       to-date!\n",
            "[nltk_data]    | \n",
            "[nltk_data]  Done downloading collection book\n"
          ],
          "name": "stdout"
        },
        {
          "output_type": "execute_result",
          "data": {
            "text/plain": [
              "True"
            ]
          },
          "metadata": {
            "tags": []
          },
          "execution_count": 49
        }
      ]
    },
    {
      "cell_type": "code",
      "metadata": {
        "id": "HPEzdVdHrPWA"
      },
      "source": [
        "import matplotlib.pyplot as plt\n",
        "%matplotlib inline\n",
        "plt.rcParams['figure.figsize'] = (8, 6)"
      ],
      "execution_count": null,
      "outputs": []
    },
    {
      "cell_type": "code",
      "metadata": {
        "id": "_xXBQ0R3sDp0"
      },
      "source": [
        "fname = './abstrct/AbstRCT_corpus/data/train/neoplasm_train/10561201.txt'\n",
        "annot = './abstrct/AbstRCT_corpus/data/train/neoplasm_train/10561201.ann'"
      ],
      "execution_count": null,
      "outputs": []
    },
    {
      "cell_type": "code",
      "metadata": {
        "colab": {
          "base_uri": "https://localhost:8080/",
          "height": 190
        },
        "id": "Z0fCs5dqtRFv",
        "outputId": "986fcb1b-dd11-4aa0-c43e-9a21d3e5a06a"
      },
      "source": [
        "raw = [line for line in open(fname, 'r')][0]\n",
        "raw"
      ],
      "execution_count": null,
      "outputs": [
        {
          "output_type": "execute_result",
          "data": {
            "application/vnd.google.colaboratory.intrinsic+json": {
              "type": "string"
            },
            "text/plain": [
              "' A combination of mitoxantrone plus prednisone is preferable to prednisone alone for reduction of pain in men with metastatic, hormone-resistant, prostate cancer. The purpose of this study was to assess the effects of these treatments on health-related quality of life (HQL). Men with metastatic prostate cancer (n = 161) were randomized to receive either daily prednisone alone or mitoxantrone (every 3 weeks) plus prednisone. Those who received prednisone alone could have mitoxantrone added after 6 weeks if there was no improvement in pain. HQL was assessed before treatment initiation and then every 3 weeks using the European Organization for Research and Treatment of Cancer Quality-of-Life Questionnaire C30 (EORTC QLQ-C30) and the Quality of Life Module-Prostate 14 (QOLM-P14), a trial-specific module developed for this study. An intent-to-treat analysis was used to determine the mean duration of HQL improvement and differences in improvement duration between groups of patients. At 6 weeks, both groups showed improvement in several HQL domains, and only physical functioning and pain were better in the mitoxantrone-plus-prednisone group than in the prednisone-alone group. After 6 weeks, patients taking prednisone showed no improvement in HQL scores, whereas those taking mitoxantrone plus prednisone showed significant improvements in global quality of life (P =.009), four functioning domains, and nine symptoms (.001 < P <. 01), and the improvement (> 10 units on a scale of 0 to100) lasted longer than in the prednisone-alone group (.004 < P <.05). The addition of mitoxantrone to prednisone after failure of prednisone alone was associated with improvements in pain, pain impact, pain relief, insomnia, and global quality of life (.001 < P <.003). Treatment with mitoxantrone plus prednisone was associated with greater and longer-lasting improvement in several HQL domains and symptoms than treatment with prednisone alone. '"
            ]
          },
          "metadata": {
            "tags": []
          },
          "execution_count": 52
        }
      ]
    },
    {
      "cell_type": "code",
      "metadata": {
        "colab": {
          "base_uri": "https://localhost:8080/"
        },
        "id": "Oeisw6ejtoua",
        "outputId": "7807011b-a50b-4a38-a744-508e32a31898"
      },
      "source": [
        "words = raw.strip().split()\n",
        "len(words)"
      ],
      "execution_count": null,
      "outputs": [
        {
          "output_type": "execute_result",
          "data": {
            "text/plain": [
              "290"
            ]
          },
          "metadata": {
            "tags": []
          },
          "execution_count": 12
        }
      ]
    },
    {
      "cell_type": "code",
      "metadata": {
        "colab": {
          "base_uri": "https://localhost:8080/"
        },
        "id": "ODpXR_QztwlH",
        "outputId": "7a4f934d-797c-40a4-a3b3-2ee4f06969bf"
      },
      "source": [
        "from collections import Counter\n",
        "\n",
        "c = Counter(words)\n",
        "c.most_common(5)"
      ],
      "execution_count": null,
      "outputs": [
        {
          "output_type": "execute_result",
          "data": {
            "text/plain": [
              "[('of', 14), ('in', 11), ('and', 11), ('prednisone', 10), ('the', 8)]"
            ]
          },
          "metadata": {
            "tags": []
          },
          "execution_count": 53
        }
      ]
    },
    {
      "cell_type": "code",
      "metadata": {
        "id": "1zBjopRouEFK"
      },
      "source": [
        "d = dict(c.most_common(5))"
      ],
      "execution_count": null,
      "outputs": []
    },
    {
      "cell_type": "code",
      "metadata": {
        "colab": {
          "base_uri": "https://localhost:8080/",
          "height": 391
        },
        "id": "sF52qb0SuHlx",
        "outputId": "58ebc279-9bce-4092-fe35-c5a3d54c42f0"
      },
      "source": [
        "plt.bar(d.keys(), d.values())"
      ],
      "execution_count": null,
      "outputs": [
        {
          "output_type": "execute_result",
          "data": {
            "text/plain": [
              "<BarContainer object of 5 artists>"
            ]
          },
          "metadata": {
            "tags": []
          },
          "execution_count": 18
        },
        {
          "output_type": "display_data",
          "data": {
            "image/png": "[encoded data removed]",
            "text/plain": [
              "<Figure size 576x432 with 1 Axes>"
            ]
          },
          "metadata": {
            "tags": [],
            "needs_background": "light"
          }
        }
      ]
    },
    {
      "cell_type": "code",
      "metadata": {
        "colab": {
          "base_uri": "https://localhost:8080/",
          "height": 445
        },
        "id": "CaDzsYKEuSBv",
        "outputId": "9e1270e7-99bb-4f6a-d589-3050ea0bb1d2"
      },
      "source": [
        "cleaned = words[:]\n",
        "\n",
        "for word in words:\n",
        "  if word in stopwords.words('english'):\n",
        "    cleaned.remove(word)\n",
        "\n",
        "freq = nltk.FreqDist(cleaned)\n",
        "freq.plot(20, cumulative=False)"
      ],
      "execution_count": null,
      "outputs": [
        {
          "output_type": "display_data",
          "data": {
            "image/png": "[encoded data removed]",
            "text/plain": [
              "<Figure size 576x432 with 1 Axes>"
            ]
          },
          "metadata": {
            "tags": [],
            "needs_background": "light"
          }
        }
      ]
    },
    {
      "cell_type": "code",
      "metadata": {
        "colab": {
          "base_uri": "https://localhost:8080/"
        },
        "id": "-HesO-wjuwK8",
        "outputId": "209d46c6-4506-47a0-bf32-1c2784f54e82"
      },
      "source": [
        "c = Counter(cleaned)\n",
        "c.most_common(5)"
      ],
      "execution_count": null,
      "outputs": [
        {
          "output_type": "execute_result",
          "data": {
            "text/plain": [
              "[('prednisone', 10),\n",
              " ('improvement', 7),\n",
              " ('mitoxantrone', 6),\n",
              " ('HQL', 5),\n",
              " ('plus', 4)]"
            ]
          },
          "metadata": {
            "tags": []
          },
          "execution_count": 20
        }
      ]
    },
    {
      "cell_type": "code",
      "metadata": {
        "id": "EPtlxRxDvWTz"
      },
      "source": [
        "sentences = raw.strip()"
      ],
      "execution_count": null,
      "outputs": []
    },
    {
      "cell_type": "code",
      "metadata": {
        "colab": {
          "base_uri": "https://localhost:8080/"
        },
        "id": "aublzIxAvZ_Y",
        "outputId": "ca5b18ff-9cad-48ac-87be-a3bf4f2be5bd"
      },
      "source": [
        "sentences.split('.')"
      ],
      "execution_count": null,
      "outputs": [
        {
          "output_type": "execute_result",
          "data": {
            "text/plain": [
              "['A combination of mitoxantrone plus prednisone is preferable to prednisone alone for reduction of pain in men with metastatic, hormone-resistant, prostate cancer',\n",
              " ' The purpose of this study was to assess the effects of these treatments on health-related quality of life (HQL)',\n",
              " ' Men with metastatic prostate cancer (n = 161) were randomized to receive either daily prednisone alone or mitoxantrone (every 3 weeks) plus prednisone',\n",
              " ' Those who received prednisone alone could have mitoxantrone added after 6 weeks if there was no improvement in pain',\n",
              " ' HQL was assessed before treatment initiation and then every 3 weeks using the European Organization for Research and Treatment of Cancer Quality-of-Life Questionnaire C30 (EORTC QLQ-C30) and the Quality of Life Module-Prostate 14 (QOLM-P14), a trial-specific module developed for this study',\n",
              " ' An intent-to-treat analysis was used to determine the mean duration of HQL improvement and differences in improvement duration between groups of patients',\n",
              " ' At 6 weeks, both groups showed improvement in several HQL domains, and only physical functioning and pain were better in the mitoxantrone-plus-prednisone group than in the prednisone-alone group',\n",
              " ' After 6 weeks, patients taking prednisone showed no improvement in HQL scores, whereas those taking mitoxantrone plus prednisone showed significant improvements in global quality of life (P =',\n",
              " '009), four functioning domains, and nine symptoms (',\n",
              " '001 < P <',\n",
              " ' 01), and the improvement (> 10 units on a scale of 0 to100) lasted longer than in the prednisone-alone group (',\n",
              " '004 < P <',\n",
              " '05)',\n",
              " ' The addition of mitoxantrone to prednisone after failure of prednisone alone was associated with improvements in pain, pain impact, pain relief, insomnia, and global quality of life (',\n",
              " '001 < P <',\n",
              " '003)',\n",
              " ' Treatment with mitoxantrone plus prednisone was associated with greater and longer-lasting improvement in several HQL domains and symptoms than treatment with prednisone alone',\n",
              " '']"
            ]
          },
          "metadata": {
            "tags": []
          },
          "execution_count": 22
        }
      ]
    },
    {
      "cell_type": "code",
      "metadata": {
        "colab": {
          "base_uri": "https://localhost:8080/"
        },
        "id": "GcHSUqIpvlo9",
        "outputId": "f3ec9bd6-a1c4-4487-908f-0d6f84fd724b"
      },
      "source": [
        "sentences = nltk.sent_tokenize(raw.strip())\n",
        "for s in sentences:\n",
        "  print(s)\n",
        "  print()\n",
        "\n",
        "len(sentences)"
      ],
      "execution_count": null,
      "outputs": [
        {
          "output_type": "stream",
          "text": [
            "A combination of mitoxantrone plus prednisone is preferable to prednisone alone for reduction of pain in men with metastatic, hormone-resistant, prostate cancer.\n",
            "\n",
            "The purpose of this study was to assess the effects of these treatments on health-related quality of life (HQL).\n",
            "\n",
            "Men with metastatic prostate cancer (n = 161) were randomized to receive either daily prednisone alone or mitoxantrone (every 3 weeks) plus prednisone.\n",
            "\n",
            "Those who received prednisone alone could have mitoxantrone added after 6 weeks if there was no improvement in pain.\n",
            "\n",
            "HQL was assessed before treatment initiation and then every 3 weeks using the European Organization for Research and Treatment of Cancer Quality-of-Life Questionnaire C30 (EORTC QLQ-C30) and the Quality of Life Module-Prostate 14 (QOLM-P14), a trial-specific module developed for this study.\n",
            "\n",
            "An intent-to-treat analysis was used to determine the mean duration of HQL improvement and differences in improvement duration between groups of patients.\n",
            "\n",
            "At 6 weeks, both groups showed improvement in several HQL domains, and only physical functioning and pain were better in the mitoxantrone-plus-prednisone group than in the prednisone-alone group.\n",
            "\n",
            "After 6 weeks, patients taking prednisone showed no improvement in HQL scores, whereas those taking mitoxantrone plus prednisone showed significant improvements in global quality of life (P =.009), four functioning domains, and nine symptoms (.001 < P <.\n",
            "\n",
            "01), and the improvement (> 10 units on a scale of 0 to100) lasted longer than in the prednisone-alone group (.004 < P <.05).\n",
            "\n",
            "The addition of mitoxantrone to prednisone after failure of prednisone alone was associated with improvements in pain, pain impact, pain relief, insomnia, and global quality of life (.001 < P <.003).\n",
            "\n",
            "Treatment with mitoxantrone plus prednisone was associated with greater and longer-lasting improvement in several HQL domains and symptoms than treatment with prednisone alone.\n",
            "\n"
          ],
          "name": "stdout"
        },
        {
          "output_type": "execute_result",
          "data": {
            "text/plain": [
              "11"
            ]
          },
          "metadata": {
            "tags": []
          },
          "execution_count": 23
        }
      ]
    },
    {
      "cell_type": "code",
      "metadata": {
        "colab": {
          "base_uri": "https://localhost:8080/"
        },
        "id": "JI9pbaQcwDzB",
        "outputId": "d725eaed-f5e1-49db-f8eb-e99ef2611eca"
      },
      "source": [
        "annotated = []\n",
        "with open(annot, 'r') as infile:\n",
        "  r = infile.readlines()\n",
        "  for row in r:\n",
        "    if re.match('^T\\d', row):\n",
        "      annotated.append(row.strip().split('\\t'))\n",
        "\n",
        "for i in annotated:\n",
        "  print(i)\n",
        "\n",
        "len(annotated)"
      ],
      "execution_count": null,
      "outputs": [
        {
          "output_type": "stream",
          "text": [
            "['T1', 'MajorClaim 1 162', 'A combination of mitoxantrone plus prednisone is preferable to prednisone alone for reduction of pain in men with metastatic, hormone-resistant, prostate cancer.']\n",
            "['T2', 'Premise 992 1058', 'At 6 weeks, both groups showed improvement in several HQL domains,']\n",
            "['T3', 'Premise 1063 1187', 'only physical functioning and pain were better in the mitoxantrone-plus-prednisone group than in the prednisone-alone group.']\n",
            "['T4', 'Premise 1188 1447', 'After 6 weeks, patients taking prednisone showed no improvement in HQL scores, whereas those taking mitoxantrone plus prednisone showed significant improvements in global quality of life (P =.009), four functioning domains, and nine symptoms (.001 < P <. 01),']\n",
            "['T6', 'Premise 1452 1568', 'the improvement (> 10 units on a scale of 0 to100) lasted longer than in the prednisone-alone group (.004 < P <.05).']\n",
            "['T7', 'Premise 1569 1768', 'The addition of mitoxantrone to prednisone after failure of prednisone alone was associated with improvements in pain, pain impact, pain relief, insomnia, and global quality of life (.001 < P <.003).']\n",
            "['T8', 'Claim 1769 1945', 'Treatment with mitoxantrone plus prednisone was associated with greater and longer-lasting improvement in several HQL domains and symptoms than treatment with prednisone alone.']\n"
          ],
          "name": "stdout"
        },
        {
          "output_type": "execute_result",
          "data": {
            "text/plain": [
              "7"
            ]
          },
          "metadata": {
            "tags": []
          },
          "execution_count": 25
        }
      ]
    },
    {
      "cell_type": "code",
      "metadata": {
        "id": "0SKI8malxoGj"
      },
      "source": [
        "def cosine_similarity(sent1, sent2):\n",
        "  \"\"\"\n",
        "  1 - collect all the words of the 2 sentences\n",
        "  2 - create 2 vectors (one for each sentence)\n",
        "  3 - calculate the cosine of the angle between the 2 vectors\n",
        "  \"\"\"\n",
        "  first = nltk.word_tokenize(sent1)\n",
        "  second = nltk.word_tokenize(sent2)\n",
        "  l1 = []\n",
        "  l2 = []\n",
        "  x = { w for w in first if w not in stopwords.words('english')}\n",
        "  y = { w for w in second if w not in stopwords.words('english')}\n",
        "  \n",
        "  rvector = x.union(y)\n",
        "  l1 = [1 if w in x else 0 for w in rvector]\n",
        "  l2 = [1 if w in y else 0 for w in rvector]\n",
        "  \n",
        "  c = 0\n",
        "  for i in range(len(rvector)):\n",
        "    c += l1[i] * l2[i]\n",
        "  \n",
        "  cosine = c / float((sum(l1) * sum(l2)) ** 0.5)\n",
        "  return cosine\n"
      ],
      "execution_count": null,
      "outputs": []
    },
    {
      "cell_type": "code",
      "metadata": {
        "colab": {
          "base_uri": "https://localhost:8080/"
        },
        "id": "ikVHDrQCySgM",
        "outputId": "11543dfe-0cf3-4898-cc1b-3ca044e12c47"
      },
      "source": [
        "s1 = \"hello world\"\n",
        "s2 = \"hello world it's me\"\n",
        "print(cosine_similarity(s1, s2))"
      ],
      "execution_count": null,
      "outputs": [
        {
          "output_type": "stream",
          "text": [
            "0.8164965809277261\n"
          ],
          "name": "stdout"
        }
      ]
    },
    {
      "cell_type": "code",
      "metadata": {
        "id": "x3mWJiL7z1QY",
        "colab": {
          "base_uri": "https://localhost:8080/"
        },
        "outputId": "35793baa-7eb8-411b-f1b3-176b8bd9387c"
      },
      "source": [
        "# tell the 7 arguments out of the 11 sentences in raw\n",
        "for sent1 in sentences:\n",
        "  match = ''\n",
        "  similarity = 0\n",
        "  for annotation in annotated:\n",
        "    sent2 = annotation[2]\n",
        "    cs = cosine_similarity(sent1, sent2)\n",
        "    if cs > similarity:\n",
        "      similarity = cs\n",
        "      match = sent2\n",
        "  \n",
        "  print(f'ORIG {sent1}')\n",
        "  print()\n",
        "  print(f'ANN {match}')\n",
        "  print()\n",
        "  print(f'SIM = {similarity}')\n",
        "  print('------')\n"
      ],
      "execution_count": null,
      "outputs": [
        {
          "output_type": "stream",
          "text": [
            "ORIG A combination of mitoxantrone plus prednisone is preferable to prednisone alone for reduction of pain in men with metastatic, hormone-resistant, prostate cancer.\n",
            "\n",
            "ANN A combination of mitoxantrone plus prednisone is preferable to prednisone alone for reduction of pain in men with metastatic, hormone-resistant, prostate cancer.\n",
            "\n",
            "SIM = 1.0\n",
            "------\n",
            "ORIG The purpose of this study was to assess the effects of these treatments on health-related quality of life (HQL).\n",
            "\n",
            "ANN The addition of mitoxantrone to prednisone after failure of prednisone alone was associated with improvements in pain, pain impact, pain relief, insomnia, and global quality of life (.001 < P <.003).\n",
            "\n",
            "SIM = 0.34698895917974415\n",
            "------\n",
            "ORIG Men with metastatic prostate cancer (n = 161) were randomized to receive either daily prednisone alone or mitoxantrone (every 3 weeks) plus prednisone.\n",
            "\n",
            "ANN A combination of mitoxantrone plus prednisone is preferable to prednisone alone for reduction of pain in men with metastatic, hormone-resistant, prostate cancer.\n",
            "\n",
            "SIM = 0.4364357804719848\n",
            "------\n",
            "ORIG Those who received prednisone alone could have mitoxantrone added after 6 weeks if there was no improvement in pain.\n",
            "\n",
            "ANN Treatment with mitoxantrone plus prednisone was associated with greater and longer-lasting improvement in several HQL domains and symptoms than treatment with prednisone alone.\n",
            "\n",
            "SIM = 0.37267799624996495\n",
            "------\n",
            "ORIG HQL was assessed before treatment initiation and then every 3 weeks using the European Organization for Research and Treatment of Cancer Quality-of-Life Questionnaire C30 (EORTC QLQ-C30) and the Quality of Life Module-Prostate 14 (QOLM-P14), a trial-specific module developed for this study.\n",
            "\n",
            "ANN After 6 weeks, patients taking prednisone showed no improvement in HQL scores, whereas those taking mitoxantrone plus prednisone showed significant improvements in global quality of life (P =.009), four functioning domains, and nine symptoms (.001 < P <. 01),\n",
            "\n",
            "SIM = 0.19050019050028574\n",
            "------\n",
            "ORIG An intent-to-treat analysis was used to determine the mean duration of HQL improvement and differences in improvement duration between groups of patients.\n",
            "\n",
            "ANN At 6 weeks, both groups showed improvement in several HQL domains,\n",
            "\n",
            "SIM = 0.2631174057921088\n",
            "------\n",
            "ORIG At 6 weeks, both groups showed improvement in several HQL domains, and only physical functioning and pain were better in the mitoxantrone-plus-prednisone group than in the prednisone-alone group.\n",
            "\n",
            "ANN At 6 weeks, both groups showed improvement in several HQL domains,\n",
            "\n",
            "SIM = 0.7453559924999299\n",
            "------\n",
            "ORIG After 6 weeks, patients taking prednisone showed no improvement in HQL scores, whereas those taking mitoxantrone plus prednisone showed significant improvements in global quality of life (P =.009), four functioning domains, and nine symptoms (.001 < P <.\n",
            "\n",
            "ANN After 6 weeks, patients taking prednisone showed no improvement in HQL scores, whereas those taking mitoxantrone plus prednisone showed significant improvements in global quality of life (P =.009), four functioning domains, and nine symptoms (.001 < P <. 01),\n",
            "\n",
            "SIM = 0.9842509842514764\n",
            "------\n",
            "ORIG 01), and the improvement (> 10 units on a scale of 0 to100) lasted longer than in the prednisone-alone group (.004 < P <.05).\n",
            "\n",
            "ANN the improvement (> 10 units on a scale of 0 to100) lasted longer than in the prednisone-alone group (.004 < P <.05).\n",
            "\n",
            "SIM = 0.9486832980505138\n",
            "------\n",
            "ORIG The addition of mitoxantrone to prednisone after failure of prednisone alone was associated with improvements in pain, pain impact, pain relief, insomnia, and global quality of life (.001 < P <.003).\n",
            "\n",
            "ANN The addition of mitoxantrone to prednisone after failure of prednisone alone was associated with improvements in pain, pain impact, pain relief, insomnia, and global quality of life (.001 < P <.003).\n",
            "\n",
            "SIM = 1.0\n",
            "------\n",
            "ORIG Treatment with mitoxantrone plus prednisone was associated with greater and longer-lasting improvement in several HQL domains and symptoms than treatment with prednisone alone.\n",
            "\n",
            "ANN Treatment with mitoxantrone plus prednisone was associated with greater and longer-lasting improvement in several HQL domains and symptoms than treatment with prednisone alone.\n",
            "\n",
            "SIM = 1.0\n",
            "------\n"
          ],
          "name": "stdout"
        }
      ]
    },
    {
      "cell_type": "code",
      "metadata": {
        "colab": {
          "base_uri": "https://localhost:8080/"
        },
        "id": "tRdxJS0SBoO9",
        "outputId": "e36ff2c9-f562-48f8-ee80-48e5a1462624"
      },
      "source": [
        "!ls"
      ],
      "execution_count": null,
      "outputs": [
        {
          "output_type": "stream",
          "text": [
            "abstrct\t\t   glove.6B.200d.txt  glove.6B.50d.txt\n",
            "glove.6B.100d.txt  glove.6B.300d.txt  glove.6B.zip\n"
          ],
          "name": "stdout"
        }
      ]
    },
    {
      "cell_type": "code",
      "metadata": {
        "id": "2aWsXYVxF5Ol"
      },
      "source": [
        "datadir = './abstrct/AbstRCT_corpus/data/train/neoplasm_train'\n",
        "testdir = './abstrct/AbstRCT_corpus/data/test/neoplasm_test'\n",
        "\n",
        "train_raw_files = [f for f in os.listdir(datadir) if f.endswith('.txt')]  # len = 350\n",
        "train_ann_files = [f for f in os.listdir(datadir) if f.endswith('.ann')]  # len = 350\n",
        "\n",
        "test_raw_files = [f for f in os.listdir(testdir) if f.endswith('.txt')]   # len = 100\n",
        "test_ann_files = [f for f in os.listdir(testdir) if f.endswith('.ann')]   # len = 100"
      ],
      "execution_count": null,
      "outputs": []
    },
    {
      "cell_type": "code",
      "metadata": {
        "id": "09xraFo0GbJK",
        "colab": {
          "base_uri": "https://localhost:8080/"
        },
        "outputId": "da76040d-0557-48cb-d7d2-95bb916c7ee0"
      },
      "source": [
        "len(test_ann_files)"
      ],
      "execution_count": null,
      "outputs": [
        {
          "output_type": "execute_result",
          "data": {
            "text/plain": [
              "100"
            ]
          },
          "metadata": {
            "tags": []
          },
          "execution_count": 58
        }
      ]
    },
    {
      "cell_type": "code",
      "metadata": {
        "id": "AkHN3aQcGo9s"
      },
      "source": [
        "# I want 2 dictionaries: {fname: raw_tdef extract_annotated(fpath):\n",
        "def extract_annotated(fpath):\n",
        "  res = []\n",
        "  with open(fpath, 'r') as infile:\n",
        "    r = infile.readlines()\n",
        "    for row in r:\n",
        "      if re.match('^T\\d', row):\n",
        "        arg_tag, annotation, text = row.strip().split('\\t')\n",
        "        fname = os.path.basename(fpath).replace('.ann', '')\n",
        "        name = f'{fname}-{arg_tag}'\n",
        "        is_arg = annotation.split()[0]\n",
        "        res.append((name, is_arg, text))\n",
        "  return res\n"
      ],
      "execution_count": null,
      "outputs": []
    },
    {
      "cell_type": "code",
      "metadata": {
        "id": "8wADhZF4Jx_5"
      },
      "source": [
        "from collections import defaultdict\n",
        "\n",
        "train_ann_dict = defaultdict(list) # 350\n",
        "test_ann_dict = defaultdict(list)  # 100\n",
        "\n",
        "for f in train_ann_files:\n",
        "  fname = f.replace('.ann', '')\n",
        "  filepath = os.path.join(datadir, f)\n",
        "  train_ann_dict[fname] = extract_annotated(filepath)\n",
        "\n",
        "\n",
        "for f in test_ann_files:\n",
        "  fname = f.replace('.ann', '')\n",
        "  filepath = os.path.join(testdir, f)\n",
        "  test_ann_dict[fname] = extract_annotated(filepath)"
      ],
      "execution_count": null,
      "outputs": []
    },
    {
      "cell_type": "code",
      "metadata": {
        "id": "k2N1TXcELNL9"
      },
      "source": [
        "train_raw_dict = {}  # 350 files\n",
        "test_raw_dict = {}   # 100 files\n",
        "\n",
        "for f in train_raw_files:\n",
        "  with open(os.path.join(datadir, f), 'r') as infile:\n",
        "    train_raw_dict[f.replace('.txt', '')] = infile.read().strip()\n",
        "\n",
        "\n",
        "for f in test_raw_files:\n",
        "  with open(os.path.join(testdir, f), 'r') as infile:\n",
        "    test_raw_dict[f.replace('.txt', '')] = infile.read().strip()  "
      ],
      "execution_count": null,
      "outputs": []
    },
    {
      "cell_type": "code",
      "metadata": {
        "colab": {
          "base_uri": "https://localhost:8080/"
        },
        "id": "WKBxlcTMK1Lo",
        "outputId": "59302381-f20f-40a7-f5a7-2bc850c6043c"
      },
      "source": [
        "train_ann_dict['16294343']"
      ],
      "execution_count": null,
      "outputs": [
        {
          "output_type": "execute_result",
          "data": {
            "text/plain": [
              "[('16294343-T2',\n",
              "  'Premise',\n",
              "  'Participants completing the intervention demonstrated improvement in male overall distress (P < 0.01), male global sexual function (P < 0.0001), and female global sexual function (P < 0.05) at 3-month follow-up,'),\n",
              " ('16294343-T3',\n",
              "  'Premise',\n",
              "  'but regression toward baseline was noted at 6-month follow-up.'),\n",
              " ('16294343-T4',\n",
              "  'Premise',\n",
              "  'However, utilization of ED treatments increased from 31% at the time of study entry to 49% at the 6-month follow-up (P = 0.003).'),\n",
              " ('16294343-T5',\n",
              "  'Claim',\n",
              "  'The results of this brief pilot counseling intervention demonstrated significant gains in sexual function and satisfaction and increased utilization of treatments for ED.'),\n",
              " ('16294343-T6',\n",
              "  'Claim',\n",
              "  'However, modifications are needed in future randomized trials to reduce the rate of premature termination and to improve long-term maintenance of gains.')]"
            ]
          },
          "metadata": {
            "tags": []
          },
          "execution_count": 70
        }
      ]
    },
    {
      "cell_type": "code",
      "metadata": {
        "id": "pqHR7zp2MiUu"
      },
      "source": [
        "def extract_sentences(raw_dict, ann_dict):\n",
        "  data = []\n",
        "  for fname, raw_text in raw_dict.items():\n",
        "    sentences = nltk.sent_tokenize(raw_text.strip())   # from the raw text\n",
        "    arguments = [x[1] for x in ann_dict[fname]]        # from the annotation\n",
        "    annotated = [x[2] for x in ann_dict[fname]]        # from the annotation\n",
        "    for sent1 in sentences:\n",
        "      match = ''\n",
        "      similarity = 0\n",
        "      annotated_arg = ''\n",
        "      for arg, sent2 in zip(arguments, annotated):\n",
        "        cs = cosine_similarity(sent1, sent2)\n",
        "        if cs > similarity and cs > 0.8:\n",
        "          # it is a match!\n",
        "          similarity = cs\n",
        "          match = sent2\n",
        "          annotated_arg = arg\n",
        "          break\n",
        "      if not match:\n",
        "        is_argumentative = 0\n",
        "      else:\n",
        "        is_argumentative = 1\n",
        "\n",
        "      data.append((sent1, is_argumentative, annotated_arg))\n",
        "  \n",
        "  return data\n"
      ],
      "execution_count": null,
      "outputs": []
    },
    {
      "cell_type": "code",
      "metadata": {
        "id": "ti5LFH02Ohd-"
      },
      "source": [
        "train_data = extract_sentences(train_raw_dict, train_ann_dict)\n",
        "test_data = extract_sentences(test_raw_dict, test_ann_dict)"
      ],
      "execution_count": null,
      "outputs": []
    },
    {
      "cell_type": "code",
      "metadata": {
        "colab": {
          "base_uri": "https://localhost:8080/"
        },
        "id": "7fEBh-dlPAZz",
        "outputId": "010b76c2-f2f3-43cf-964a-9c50e6462998"
      },
      "source": [
        "print(len(train_data))"
      ],
      "execution_count": null,
      "outputs": [
        {
          "output_type": "stream",
          "text": [
            "4418\n"
          ],
          "name": "stdout"
        }
      ]
    },
    {
      "cell_type": "code",
      "metadata": {
        "colab": {
          "base_uri": "https://localhost:8080/"
        },
        "id": "NfBSKnvGPEEK",
        "outputId": "d001c206-79b2-4b2f-9a30-69f88ad02044"
      },
      "source": [
        "print(len(test_data))"
      ],
      "execution_count": null,
      "outputs": [
        {
          "output_type": "stream",
          "text": [
            "1258\n"
          ],
          "name": "stdout"
        }
      ]
    },
    {
      "cell_type": "code",
      "metadata": {
        "colab": {
          "base_uri": "https://localhost:8080/"
        },
        "id": "bXVEiHLJP945",
        "outputId": "56bde61d-e333-4f01-da93-938668fc0a6e"
      },
      "source": [
        "# train_data: [(sent, 0, 'Premise')....]\n",
        "len(list(filter(lambda x: x[1] == 0, train_data)))  # how many sentences are labelled as NON ARGUMENTATIVE"
      ],
      "execution_count": null,
      "outputs": [
        {
          "output_type": "execute_result",
          "data": {
            "text/plain": [
              "2471"
            ]
          },
          "metadata": {
            "tags": []
          },
          "execution_count": 92
        }
      ]
    },
    {
      "cell_type": "code",
      "metadata": {
        "id": "aeOFBlaxQjo8"
      },
      "source": [
        "train = pd.DataFrame(train_data, columns=['text', 'label', 'arg'])"
      ],
      "execution_count": null,
      "outputs": []
    },
    {
      "cell_type": "code",
      "metadata": {
        "colab": {
          "base_uri": "https://localhost:8080/"
        },
        "id": "Rs-LcoFMQqoE",
        "outputId": "319be592-b0ff-42c2-8463-a2f416cc36fe"
      },
      "source": [
        "train['arg'].value_counts()"
      ],
      "execution_count": null,
      "outputs": [
        {
          "output_type": "execute_result",
          "data": {
            "text/plain": [
              "              2471\n",
              "Premise       1318\n",
              "Claim          572\n",
              "MajorClaim      57\n",
              "Name: arg, dtype: int64"
            ]
          },
          "metadata": {
            "tags": []
          },
          "execution_count": 94
        }
      ]
    },
    {
      "cell_type": "code",
      "metadata": {
        "id": "KarkBs9nRaAD"
      },
      "source": [
        "test = pd.DataFrame(test_data, columns=['text', 'label', 'arg'])"
      ],
      "execution_count": null,
      "outputs": []
    },
    {
      "cell_type": "code",
      "metadata": {
        "colab": {
          "base_uri": "https://localhost:8080/",
          "height": 203
        },
        "id": "ef7BxrRyR-mq",
        "outputId": "0c73a04d-5fa2-4d8b-df07-f5ef06aa9c62"
      },
      "source": [
        "test.head()"
      ],
      "execution_count": null,
      "outputs": [
        {
          "output_type": "execute_result",
          "data": {
            "text/html": [
              "<div>\n",
              "<style scoped>\n",
              "    .dataframe tbody tr th:only-of-type {\n",
              "        vertical-align: middle;\n",
              "    }\n",
              "\n",
              "    .dataframe tbody tr th {\n",
              "        vertical-align: top;\n",
              "    }\n",
              "\n",
              "    .dataframe thead th {\n",
              "        text-align: right;\n",
              "    }\n",
              "</style>\n",
              "<table border=\"1\" class=\"dataframe\">\n",
              "  <thead>\n",
              "    <tr style=\"text-align: right;\">\n",
              "      <th></th>\n",
              "      <th>text</th>\n",
              "      <th>label</th>\n",
              "      <th>arg</th>\n",
              "    </tr>\n",
              "  </thead>\n",
              "  <tbody>\n",
              "    <tr>\n",
              "      <th>0</th>\n",
              "      <td>Data from experimental studies suggest that oc...</td>\n",
              "      <td>1</td>\n",
              "      <td>MajorClaim</td>\n",
              "    </tr>\n",
              "    <tr>\n",
              "      <th>1</th>\n",
              "      <td>To assess the antitumour effect of octreotide,...</td>\n",
              "      <td>0</td>\n",
              "      <td></td>\n",
              "    </tr>\n",
              "    <tr>\n",
              "      <th>2</th>\n",
              "      <td>All patients, aged 59-75 years, were not liabl...</td>\n",
              "      <td>0</td>\n",
              "      <td></td>\n",
              "    </tr>\n",
              "    <tr>\n",
              "      <th>3</th>\n",
              "      <td>Six patients were enrolled, 4 of these treated...</td>\n",
              "      <td>0</td>\n",
              "      <td></td>\n",
              "    </tr>\n",
              "    <tr>\n",
              "      <th>4</th>\n",
              "      <td>The patients treated with octreotide showed a ...</td>\n",
              "      <td>1</td>\n",
              "      <td>Premise</td>\n",
              "    </tr>\n",
              "  </tbody>\n",
              "</table>\n",
              "</div>"
            ],
            "text/plain": [
              "                                                text  label         arg\n",
              "0  Data from experimental studies suggest that oc...      1  MajorClaim\n",
              "1  To assess the antitumour effect of octreotide,...      0            \n",
              "2  All patients, aged 59-75 years, were not liabl...      0            \n",
              "3  Six patients were enrolled, 4 of these treated...      0            \n",
              "4  The patients treated with octreotide showed a ...      1     Premise"
            ]
          },
          "metadata": {
            "tags": []
          },
          "execution_count": 96
        }
      ]
    },
    {
      "cell_type": "code",
      "metadata": {
        "id": "gx-qlWYRRxc6"
      },
      "source": [
        "def preprocess_text(text):\n",
        "  tokeniser = RegexpTokenizer(r'\\w+')\n",
        "  tokens = tokeniser.tokenize(text)\n",
        "\n",
        "  lemmatiser = WordNetLemmatizer()\n",
        "  lemmas = [lemmatiser.lemmatize(token.lower(), pos='v') for token in tokens]\n",
        "\n",
        "  keywords = [l for l in lemmas if l not in stopwords.words('english')]\n",
        "\n",
        "  return keywords"
      ],
      "execution_count": null,
      "outputs": []
    },
    {
      "cell_type": "code",
      "metadata": {
        "id": "AG4cpNz1SUJP"
      },
      "source": [
        "s = \"Hello my name is Marco\""
      ],
      "execution_count": null,
      "outputs": []
    },
    {
      "cell_type": "code",
      "metadata": {
        "colab": {
          "base_uri": "https://localhost:8080/"
        },
        "id": "8hTkeHVhSW9L",
        "outputId": "bb1f9798-0f85-40e0-d4f2-b2ec8dc7d0f8"
      },
      "source": [
        "preprocess_text(s)"
      ],
      "execution_count": null,
      "outputs": [
        {
          "output_type": "execute_result",
          "data": {
            "text/plain": [
              "['hello', 'name', 'marco']"
            ]
          },
          "metadata": {
            "tags": []
          },
          "execution_count": 103
        }
      ]
    },
    {
      "cell_type": "code",
      "metadata": {
        "id": "P55Ymz2TS6KC"
      },
      "source": [
        "x_train, y_train = train['text'], train['label']\n",
        "x_test, y_test = test['text'], test['label']"
      ],
      "execution_count": null,
      "outputs": []
    },
    {
      "cell_type": "code",
      "metadata": {
        "colab": {
          "base_uri": "https://localhost:8080/"
        },
        "id": "lbIWFR98TFxy",
        "outputId": "5a61535c-0e11-4eb0-9cd2-f816b771e49f"
      },
      "source": [
        "x_test.shape"
      ],
      "execution_count": null,
      "outputs": [
        {
          "output_type": "execute_result",
          "data": {
            "text/plain": [
              "(1258,)"
            ]
          },
          "metadata": {
            "tags": []
          },
          "execution_count": 106
        }
      ]
    },
    {
      "cell_type": "code",
      "metadata": {
        "colab": {
          "base_uri": "https://localhost:8080/"
        },
        "id": "PnzAAHtCTM_Z",
        "outputId": "59d5d23d-c068-464a-ed9e-f1f901a7506f"
      },
      "source": [
        "y_train.value_counts()"
      ],
      "execution_count": null,
      "outputs": [
        {
          "output_type": "execute_result",
          "data": {
            "text/plain": [
              "0    2471\n",
              "1    1947\n",
              "Name: label, dtype: int64"
            ]
          },
          "metadata": {
            "tags": []
          },
          "execution_count": 107
        }
      ]
    },
    {
      "cell_type": "code",
      "metadata": {
        "id": "C4epXmXnTXyA"
      },
      "source": [
        "vectoriser = TfidfVectorizer(analyzer=preprocess_text)"
      ],
      "execution_count": null,
      "outputs": []
    },
    {
      "cell_type": "code",
      "metadata": {
        "colab": {
          "base_uri": "https://localhost:8080/"
        },
        "id": "-BSAUcMQTrve",
        "outputId": "04739dec-9dda-45a9-a50b-477a765c3dcb"
      },
      "source": [
        "x_train_tfidf = vectoriser.fit_transform(x_train)\n",
        "x_train_tfidf.shape"
      ],
      "execution_count": null,
      "outputs": [
        {
          "output_type": "execute_result",
          "data": {
            "text/plain": [
              "(4418, 5336)"
            ]
          },
          "metadata": {
            "tags": []
          },
          "execution_count": 109
        }
      ]
    },
    {
      "cell_type": "code",
      "metadata": {
        "id": "lOOYh111UV9i"
      },
      "source": [
        "sgd_clf = SGDClassifier(random_state=42)\n",
        "sgd_clf_scores = cross_val_score(sgd_clf, x_train_tfidf, y_train, cv=5)"
      ],
      "execution_count": null,
      "outputs": []
    },
    {
      "cell_type": "code",
      "metadata": {
        "colab": {
          "base_uri": "https://localhost:8080/"
        },
        "id": "dsKTRA5eVTR4",
        "outputId": "1016f56c-ee87-472e-c2d2-e2fe7f20f5c5"
      },
      "source": [
        "print(f'mean accuracy: {sgd_clf_scores.mean()} +/- {sgd_clf_scores.std() * 2}')"
      ],
      "execution_count": null,
      "outputs": [
        {
          "output_type": "stream",
          "text": [
            "mean accuracy: 0.801724120260527 +/- 0.026558634497802748\n"
          ],
          "name": "stdout"
        }
      ]
    },
    {
      "cell_type": "code",
      "metadata": {
        "id": "8SuGRfymVdZS"
      },
      "source": [
        "sgd_clf_pred = cross_val_predict(sgd_clf, x_train_tfidf, y_train, cv=5)"
      ],
      "execution_count": null,
      "outputs": []
    },
    {
      "cell_type": "code",
      "metadata": {
        "colab": {
          "base_uri": "https://localhost:8080/"
        },
        "id": "uxw_Y_4qV3Pr",
        "outputId": "6b2d0f21-5234-4fe5-ccfd-87ad91e7b3bd"
      },
      "source": [
        "confusion_matrix(y_train, sgd_clf_pred)"
      ],
      "execution_count": null,
      "outputs": [
        {
          "output_type": "execute_result",
          "data": {
            "text/plain": [
              "array([[2062,  409],\n",
              "       [ 467, 1480]])"
            ]
          },
          "metadata": {
            "tags": []
          },
          "execution_count": 116
        }
      ]
    },
    {
      "cell_type": "code",
      "metadata": {
        "colab": {
          "base_uri": "https://localhost:8080/"
        },
        "id": "bAKRW10VWJJI",
        "outputId": "fb021c5e-ca48-4e3d-d505-63eb433f9595"
      },
      "source": [
        "grid = {'fit_intercept': [True, False],\n",
        "        'early_stopping': [True, False],\n",
        "        'loss': ['hinge', 'log', 'squared_hinge'],\n",
        "        'penalty': ['l2', 'l1', 'none']}\n",
        "\n",
        "search = GridSearchCV(estimator=sgd_clf, param_grid=grid, cv=5)\n",
        "search.fit(x_train_tfidf, y_train)\n",
        "search.best_params_"
      ],
      "execution_count": null,
      "outputs": [
        {
          "output_type": "stream",
          "text": [
            "/usr/local/lib/python3.6/dist-packages/sklearn/linear_model/_stochastic_gradient.py:557: ConvergenceWarning: Maximum number of iteration reached before convergence. Consider increasing max_iter to improve the fit.\n",
            "  ConvergenceWarning)\n"
          ],
          "name": "stderr"
        },
        {
          "output_type": "execute_result",
          "data": {
            "text/plain": [
              "{'early_stopping': False,\n",
              " 'fit_intercept': True,\n",
              " 'loss': 'log',\n",
              " 'penalty': 'l1'}"
            ]
          },
          "metadata": {
            "tags": []
          },
          "execution_count": 118
        }
      ]
    },
    {
      "cell_type": "code",
      "metadata": {
        "colab": {
          "base_uri": "https://localhost:8080/"
        },
        "id": "HiShqBs9XCjr",
        "outputId": "3c86292a-719f-4d28-840e-0eb684ce8c87"
      },
      "source": [
        "grid_sgd_clf_scores = cross_val_score(search.best_estimator_, x_train_tfidf, y_train, cv=5)\n",
        "print(f'mean accuracy: {grid_sgd_clf_scores.mean()} +/- {grid_sgd_clf_scores.std() * 2}')"
      ],
      "execution_count": null,
      "outputs": [
        {
          "output_type": "stream",
          "text": [
            "mean accuracy: 0.8239032401879648 +/- 0.024616239782555116\n"
          ],
          "name": "stdout"
        }
      ]
    },
    {
      "cell_type": "code",
      "metadata": {
        "colab": {
          "base_uri": "https://localhost:8080/"
        },
        "id": "JtbRcim7XX3r",
        "outputId": "3e67350f-ddfd-4e26-c4c0-59460f6a287b"
      },
      "source": [
        "pipe = Pipeline([('vectoriser', vectoriser),\n",
        "                 ('classifier', search.best_estimator_)])\n",
        "\n",
        "pipe.fit(x_train, y_train)"
      ],
      "execution_count": null,
      "outputs": [
        {
          "output_type": "execute_result",
          "data": {
            "text/plain": [
              "Pipeline(memory=None,\n",
              "         steps=[('vectoriser',\n",
              "                 TfidfVectorizer(analyzer=<function preprocess_text at 0x7f281ce83ae8>,\n",
              "                                 binary=False, decode_error='strict',\n",
              "                                 dtype=<class 'numpy.float64'>,\n",
              "                                 encoding='utf-8', input='content',\n",
              "                                 lowercase=True, max_df=1.0, max_features=None,\n",
              "                                 min_df=1, ngram_range=(1, 1), norm='l2',\n",
              "                                 preprocessor=None, smooth_idf=True,\n",
              "                                 stop_words=None, strip_accents...\n",
              "                ('classifier',\n",
              "                 SGDClassifier(alpha=0.0001, average=False, class_weight=None,\n",
              "                               early_stopping=False, epsilon=0.1, eta0=0.0,\n",
              "                               fit_intercept=True, l1_ratio=0.15,\n",
              "                               learning_rate='optimal', loss='log',\n",
              "                               max_iter=1000, n_iter_no_change=5, n_jobs=None,\n",
              "                               penalty='l1', power_t=0.5, random_state=42,\n",
              "                               shuffle=True, tol=0.001, validation_fraction=0.1,\n",
              "                               verbose=0, warm_start=False))],\n",
              "         verbose=False)"
            ]
          },
          "metadata": {
            "tags": []
          },
          "execution_count": 121
        }
      ]
    },
    {
      "cell_type": "code",
      "metadata": {
        "id": "oFkSxh3wX73W"
      },
      "source": [
        "y_test_pred = pipe.predict(x_test)\n"
      ],
      "execution_count": null,
      "outputs": []
    },
    {
      "cell_type": "code",
      "metadata": {
        "colab": {
          "base_uri": "https://localhost:8080/"
        },
        "id": "96T5tDzIYDql",
        "outputId": "661e5647-bcee-4b10-ca34-cd8e77879a77"
      },
      "source": [
        "accuracy_score(y_test, y_test_pred)"
      ],
      "execution_count": null,
      "outputs": [
        {
          "output_type": "execute_result",
          "data": {
            "text/plain": [
              "0.8163751987281399"
            ]
          },
          "metadata": {
            "tags": []
          },
          "execution_count": 123
        }
      ]
    },
    {
      "cell_type": "code",
      "metadata": {
        "colab": {
          "base_uri": "https://localhost:8080/"
        },
        "id": "xwg7lSsNYIJE",
        "outputId": "99a9cc33-96eb-4a0a-f4b5-bf5e8fe2c1a4"
      },
      "source": [
        "confusion_matrix(y_test, y_test_pred)"
      ],
      "execution_count": null,
      "outputs": [
        {
          "output_type": "execute_result",
          "data": {
            "text/plain": [
              "array([[567, 103],\n",
              "       [128, 460]])"
            ]
          },
          "metadata": {
            "tags": []
          },
          "execution_count": 124
        }
      ]
    },
    {
      "cell_type": "code",
      "metadata": {
        "colab": {
          "base_uri": "https://localhost:8080/"
        },
        "id": "IYRwLgT4YNW7",
        "outputId": "4988683f-ab24-46bb-8488-f9bf0521ffc5"
      },
      "source": [
        "classification_report(y_test, y_test_pred, output_dict=True)"
      ],
      "execution_count": null,
      "outputs": [
        {
          "output_type": "execute_result",
          "data": {
            "text/plain": [
              "{'0': {'f1-score': 0.8307692307692307,\n",
              "  'precision': 0.8158273381294964,\n",
              "  'recall': 0.8462686567164179,\n",
              "  'support': 670},\n",
              " '1': {'f1-score': 0.7993049522154648,\n",
              "  'precision': 0.8170515097690941,\n",
              "  'recall': 0.782312925170068,\n",
              "  'support': 588},\n",
              " 'accuracy': 0.8163751987281399,\n",
              " 'macro avg': {'f1-score': 0.8150370914923477,\n",
              "  'precision': 0.8164394239492953,\n",
              "  'recall': 0.814290790943243,\n",
              "  'support': 1258},\n",
              " 'weighted avg': {'f1-score': 0.8160625568506182,\n",
              "  'precision': 0.816399526463426,\n",
              "  'recall': 0.8163751987281399,\n",
              "  'support': 1258}}"
            ]
          },
          "metadata": {
            "tags": []
          },
          "execution_count": 125
        }
      ]
    },
    {
      "cell_type": "markdown",
      "metadata": {
        "id": "KMV36eupYuCj"
      },
      "source": [
        "\n",
        "\n",
        "1.   compare raw text and annotated text\n",
        "2.   extract what was identified as argument\n",
        "3.   0: non argumentative, 1: argumentative\n",
        "4.   load all dataset into training and test\n",
        "5.   preprocess all text -> tf-idf representation\n",
        "6.   cross-validate a SVM classifier\n",
        "7.   -> found the best.estimator_\n",
        "8.   build the pipeline (tf-idf + svm)\n",
        "9.   train the pipeline model on the training set\n",
        "10.  test on testing set\n",
        "\n",
        "11.  and now? How to use it?\n",
        "\n"
      ]
    },
    {
      "cell_type": "code",
      "metadata": {
        "id": "nDMjjVGOZxTC"
      },
      "source": [
        "text = \"Coronavirus disease 2019 (COVID-19) is an infectious disease caused by coronavirus-2 (SARS-CoV-2) that causes a severe acute respiratory syndrome, a characteristic hyperinflammatory response, vascular damage, microangiopathy, angiogenesis and widespread thrombosis. Four stages of COVID-19 have been identified: the first stage is characterised by upper respiratory tract infection; the second by the onset of dyspnoea and pneumonia; the third by a worsening clinical scenario dominated by a cytokine storm and the consequent hyperinflammatory state; and the fourth by death or recovery. Currently, no treatment can act specifically against the SARS-CoV-2 infection. Based on the pathological features and different clinical phases of COVID-19, particularly in patients with moderate to severe COVID-19, the classes of drugs used are antiviral agents, inflammation inhibitors/antirheumatic drugs, low molecular weight heparins, plasma, and hyperimmune immunoglobulins. During this emergency period of the COVID-19 outbreak, clinical researchers are using and testing a variety of possible treatments. Based on these premises, this review aims to discuss the most updated pharmacological treatments to effectively act against the SARS-CoV-2 infection and support researchers and clinicians in relation to any current and future developments in curing COVID-19 patients.\""
      ],
      "execution_count": null,
      "outputs": []
    },
    {
      "cell_type": "code",
      "metadata": {
        "id": "1MtO9oXUZ2UK"
      },
      "source": [
        "sents = nltk.sent_tokenize(text)"
      ],
      "execution_count": null,
      "outputs": []
    },
    {
      "cell_type": "code",
      "metadata": {
        "colab": {
          "base_uri": "https://localhost:8080/"
        },
        "id": "4PYd89r7Z9sW",
        "outputId": "24a8a16e-738b-4ec8-a3c2-3b48ca6df4f7"
      },
      "source": [
        "sents"
      ],
      "execution_count": null,
      "outputs": [
        {
          "output_type": "execute_result",
          "data": {
            "text/plain": [
              "['Coronavirus disease 2019 (COVID-19) is an infectious disease caused by coronavirus-2 (SARS-CoV-2) that causes a severe acute respiratory syndrome, a characteristic hyperinflammatory response, vascular damage, microangiopathy, angiogenesis and widespread thrombosis.',\n",
              " 'Four stages of COVID-19 have been identified: the first stage is characterised by upper respiratory tract infection; the second by the onset of dyspnoea and pneumonia; the third by a worsening clinical scenario dominated by a cytokine storm and the consequent hyperinflammatory state; and the fourth by death or recovery.',\n",
              " 'Currently, no treatment can act specifically against the SARS-CoV-2 infection.',\n",
              " 'Based on the pathological features and different clinical phases of COVID-19, particularly in patients with moderate to severe COVID-19, the classes of drugs used are antiviral agents, inflammation inhibitors/antirheumatic drugs, low molecular weight heparins, plasma, and hyperimmune immunoglobulins.',\n",
              " 'During this emergency period of the COVID-19 outbreak, clinical researchers are using and testing a variety of possible treatments.',\n",
              " 'Based on these premises, this review aims to discuss the most updated pharmacological treatments to effectively act against the SARS-CoV-2 infection and support researchers and clinicians in relation to any current and future developments in curing COVID-19 patients.']"
            ]
          },
          "metadata": {
            "tags": []
          },
          "execution_count": 128
        }
      ]
    },
    {
      "cell_type": "code",
      "metadata": {
        "colab": {
          "base_uri": "https://localhost:8080/"
        },
        "id": "y5mJeeryaFTz",
        "outputId": "c4208ac9-15aa-4912-bd80-ab013f1cc423"
      },
      "source": [
        "x_text = pd.Series(sents, name='text')\n",
        "x_text.shape"
      ],
      "execution_count": null,
      "outputs": [
        {
          "output_type": "execute_result",
          "data": {
            "text/plain": [
              "(6,)"
            ]
          },
          "metadata": {
            "tags": []
          },
          "execution_count": 129
        }
      ]
    },
    {
      "cell_type": "code",
      "metadata": {
        "id": "TOZ7W26FaRX4"
      },
      "source": [
        "y_new = pipe.predict(x_text)"
      ],
      "execution_count": null,
      "outputs": []
    },
    {
      "cell_type": "code",
      "metadata": {
        "colab": {
          "base_uri": "https://localhost:8080/"
        },
        "id": "0v4pJqXDaYfw",
        "outputId": "e6fc311b-5282-4619-f1c6-47a15aafd41b"
      },
      "source": [
        "y_new"
      ],
      "execution_count": null,
      "outputs": [
        {
          "output_type": "execute_result",
          "data": {
            "text/plain": [
              "array([0, 0, 0, 1, 0, 0])"
            ]
          },
          "metadata": {
            "tags": []
          },
          "execution_count": 132
        }
      ]
    },
    {
      "cell_type": "code",
      "metadata": {
        "colab": {
          "base_uri": "https://localhost:8080/",
          "height": 234
        },
        "id": "3SiXjvRYacgZ",
        "outputId": "40f9a97a-a57d-40a2-c1ea-786121f1911f"
      },
      "source": [
        "pd.concat([x_text, pd.Series(y_new, name='pred')], axis=1)"
      ],
      "execution_count": null,
      "outputs": [
        {
          "output_type": "execute_result",
          "data": {
            "text/html": [
              "<div>\n",
              "<style scoped>\n",
              "    .dataframe tbody tr th:only-of-type {\n",
              "        vertical-align: middle;\n",
              "    }\n",
              "\n",
              "    .dataframe tbody tr th {\n",
              "        vertical-align: top;\n",
              "    }\n",
              "\n",
              "    .dataframe thead th {\n",
              "        text-align: right;\n",
              "    }\n",
              "</style>\n",
              "<table border=\"1\" class=\"dataframe\">\n",
              "  <thead>\n",
              "    <tr style=\"text-align: right;\">\n",
              "      <th></th>\n",
              "      <th>text</th>\n",
              "      <th>pred</th>\n",
              "    </tr>\n",
              "  </thead>\n",
              "  <tbody>\n",
              "    <tr>\n",
              "      <th>0</th>\n",
              "      <td>Coronavirus disease 2019 (COVID-19) is an infe...</td>\n",
              "      <td>0</td>\n",
              "    </tr>\n",
              "    <tr>\n",
              "      <th>1</th>\n",
              "      <td>Four stages of COVID-19 have been identified: ...</td>\n",
              "      <td>0</td>\n",
              "    </tr>\n",
              "    <tr>\n",
              "      <th>2</th>\n",
              "      <td>Currently, no treatment can act specifically a...</td>\n",
              "      <td>0</td>\n",
              "    </tr>\n",
              "    <tr>\n",
              "      <th>3</th>\n",
              "      <td>Based on the pathological features and differe...</td>\n",
              "      <td>1</td>\n",
              "    </tr>\n",
              "    <tr>\n",
              "      <th>4</th>\n",
              "      <td>During this emergency period of the COVID-19 o...</td>\n",
              "      <td>0</td>\n",
              "    </tr>\n",
              "    <tr>\n",
              "      <th>5</th>\n",
              "      <td>Based on these premises, this review aims to d...</td>\n",
              "      <td>0</td>\n",
              "    </tr>\n",
              "  </tbody>\n",
              "</table>\n",
              "</div>"
            ],
            "text/plain": [
              "                                                text  pred\n",
              "0  Coronavirus disease 2019 (COVID-19) is an infe...     0\n",
              "1  Four stages of COVID-19 have been identified: ...     0\n",
              "2  Currently, no treatment can act specifically a...     0\n",
              "3  Based on the pathological features and differe...     1\n",
              "4  During this emergency period of the COVID-19 o...     0\n",
              "5  Based on these premises, this review aims to d...     0"
            ]
          },
          "metadata": {
            "tags": []
          },
          "execution_count": 134
        }
      ]
    }
  ]
}