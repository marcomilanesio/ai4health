{
 "cells": [
  {
   "cell_type": "markdown",
   "metadata": {
    "id": "GdEu4aFr7EwI"
   },
   "source": [
    "## Argument Mining Practical Session\n",
    "\n",
    "## PART I - tf-idf\n",
    "\n",
    "To use this on Colab, run the following cells. (Authentication required).\n",
    "\n",
    "**IMPORTANT**: the folder `share` exists on **my** Google Drive. Make sure to change this with a folder of your choice on your Google Drive."
   ]
  },
  {
   "cell_type": "code",
   "execution_count": null,
   "metadata": {
    "colab": {
     "base_uri": "https://localhost:8080/"
    },
    "id": "e1PAtUQQ4XRp",
    "outputId": "e718ad7f-23b2-4d26-b804-0ebe89f27157"
   },
   "outputs": [],
   "source": [
    "from google.colab import drive\n",
    "drive.mount('/content/gdrive')"
   ]
  },
  {
   "cell_type": "markdown",
   "metadata": {
    "id": "r9uf63llZSeV"
   },
   "source": [
    "Folder `share` exists on my Google Drive. I navigate to this folder to store there the data."
   ]
  },
  {
   "cell_type": "code",
   "execution_count": null,
   "metadata": {
    "colab": {
     "base_uri": "https://localhost:8080/"
    },
    "id": "JtmnvrYp5iBe",
    "outputId": "a3232e9d-9f59-4ad8-f773-6e690f5ad105"
   },
   "outputs": [],
   "source": [
    "%cd gdrive/MyDrive/share"
   ]
  },
  {
   "cell_type": "code",
   "execution_count": null,
   "metadata": {
    "colab": {
     "base_uri": "https://localhost:8080/"
    },
    "id": "2suNANYypWvj",
    "outputId": "0ff9de61-9ded-4c06-a956-c83c77bbee73"
   },
   "outputs": [],
   "source": [
    "! ls"
   ]
  },
  {
   "cell_type": "markdown",
   "metadata": {
    "id": "TBaZ0hMe7Tq2"
   },
   "source": [
    "Now we are cloning the Dataset into our Google Drive (in the folder specified earlier)"
   ]
  },
  {
   "cell_type": "code",
   "execution_count": null,
   "metadata": {
    "colab": {
     "base_uri": "https://localhost:8080/"
    },
    "id": "WPSe0d2c54uT",
    "outputId": "a75da12f-885e-4ec9-8711-144eb3b00a3a"
   },
   "outputs": [],
   "source": [
    "! git clone https://gitlab.com/tomaye/abstrct.git"
   ]
  },
  {
   "cell_type": "code",
   "execution_count": null,
   "metadata": {
    "id": "Z9trUdrCZSeY"
   },
   "outputs": [],
   "source": [
    "! wget http://nlp.stanford.edu/data/glove.6B.zip"
   ]
  },
  {
   "cell_type": "code",
   "execution_count": null,
   "metadata": {
    "colab": {
     "base_uri": "https://localhost:8080/"
    },
    "id": "AHwTnp8rZSeZ",
    "outputId": "964b61f6-a909-4a37-da83-b5ac0d597248"
   },
   "outputs": [],
   "source": [
    "! unzip glove.6B.zip"
   ]
  },
  {
   "cell_type": "code",
   "execution_count": null,
   "metadata": {
    "colab": {
     "base_uri": "https://localhost:8080/"
    },
    "id": "-K1yBleM6VAq",
    "outputId": "73488bee-97ef-4a38-acf5-02bccaac32c0"
   },
   "outputs": [],
   "source": [
    "! ls"
   ]
  },
  {
   "cell_type": "markdown",
   "metadata": {
    "id": "F_-bwMTC7bwg"
   },
   "source": [
    "We're good to go.\n",
    "\n",
    "## Argumentative vs Non Argumentative Classification\n",
    "\n",
    "**IMPORTANT** If you run locally (NOT COLAB) start from here.\n",
    "\n",
    "Let's begin with some imports..."
   ]
  },
  {
   "cell_type": "code",
   "execution_count": 1,
   "metadata": {
    "id": "HYxqdaIK7CaN"
   },
   "outputs": [],
   "source": [
    "import pandas as pd\n",
    "import nltk\n",
    "from nltk.corpus import movie_reviews, stopwords\n",
    "from nltk.stem import WordNetLemmatizer\n",
    "from nltk.tokenize import RegexpTokenizer\n",
    "from sklearn.model_selection import train_test_split, cross_val_score, cross_val_predict, GridSearchCV\n",
    "from sklearn.feature_extraction.text import TfidfVectorizer\n",
    "from sklearn.linear_model import SGDClassifier\n",
    "from sklearn.pipeline import Pipeline\n",
    "from sklearn.metrics import confusion_matrix, accuracy_score, classification_report\n",
    "import os\n",
    "import re"
   ]
  },
  {
   "cell_type": "code",
   "execution_count": 2,
   "metadata": {
    "colab": {
     "base_uri": "https://localhost:8080/"
    },
    "id": "Pafw9SofZSeb",
    "outputId": "53287175-d949-4f50-8967-80315b3af3dc"
   },
   "outputs": [
    {
     "name": "stderr",
     "output_type": "stream",
     "text": [
      "[nltk_data] Downloading collection 'book'\n",
      "[nltk_data]    | \n",
      "[nltk_data]    | Downloading package abc to /Users/marco/nltk_data...\n",
      "[nltk_data]    |   Package abc is already up-to-date!\n",
      "[nltk_data]    | Downloading package brown to\n",
      "[nltk_data]    |     /Users/marco/nltk_data...\n",
      "[nltk_data]    |   Package brown is already up-to-date!\n",
      "[nltk_data]    | Downloading package chat80 to\n",
      "[nltk_data]    |     /Users/marco/nltk_data...\n",
      "[nltk_data]    |   Package chat80 is already up-to-date!\n",
      "[nltk_data]    | Downloading package cmudict to\n",
      "[nltk_data]    |     /Users/marco/nltk_data...\n",
      "[nltk_data]    |   Package cmudict is already up-to-date!\n",
      "[nltk_data]    | Downloading package conll2000 to\n",
      "[nltk_data]    |     /Users/marco/nltk_data...\n",
      "[nltk_data]    |   Package conll2000 is already up-to-date!\n",
      "[nltk_data]    | Downloading package conll2002 to\n",
      "[nltk_data]    |     /Users/marco/nltk_data...\n",
      "[nltk_data]    |   Package conll2002 is already up-to-date!\n",
      "[nltk_data]    | Downloading package dependency_treebank to\n",
      "[nltk_data]    |     /Users/marco/nltk_data...\n",
      "[nltk_data]    |   Package dependency_treebank is already up-to-date!\n",
      "[nltk_data]    | Downloading package genesis to\n",
      "[nltk_data]    |     /Users/marco/nltk_data...\n",
      "[nltk_data]    |   Package genesis is already up-to-date!\n",
      "[nltk_data]    | Downloading package gutenberg to\n",
      "[nltk_data]    |     /Users/marco/nltk_data...\n",
      "[nltk_data]    |   Package gutenberg is already up-to-date!\n",
      "[nltk_data]    | Downloading package ieer to /Users/marco/nltk_data...\n",
      "[nltk_data]    |   Package ieer is already up-to-date!\n",
      "[nltk_data]    | Downloading package inaugural to\n",
      "[nltk_data]    |     /Users/marco/nltk_data...\n",
      "[nltk_data]    |   Package inaugural is already up-to-date!\n",
      "[nltk_data]    | Downloading package movie_reviews to\n",
      "[nltk_data]    |     /Users/marco/nltk_data...\n",
      "[nltk_data]    |   Package movie_reviews is already up-to-date!\n",
      "[nltk_data]    | Downloading package nps_chat to\n",
      "[nltk_data]    |     /Users/marco/nltk_data...\n",
      "[nltk_data]    |   Package nps_chat is already up-to-date!\n",
      "[nltk_data]    | Downloading package names to\n",
      "[nltk_data]    |     /Users/marco/nltk_data...\n",
      "[nltk_data]    |   Package names is already up-to-date!\n",
      "[nltk_data]    | Downloading package ppattach to\n",
      "[nltk_data]    |     /Users/marco/nltk_data...\n",
      "[nltk_data]    |   Package ppattach is already up-to-date!\n",
      "[nltk_data]    | Downloading package reuters to\n",
      "[nltk_data]    |     /Users/marco/nltk_data...\n",
      "[nltk_data]    |   Package reuters is already up-to-date!\n",
      "[nltk_data]    | Downloading package senseval to\n",
      "[nltk_data]    |     /Users/marco/nltk_data...\n",
      "[nltk_data]    |   Package senseval is already up-to-date!\n",
      "[nltk_data]    | Downloading package state_union to\n",
      "[nltk_data]    |     /Users/marco/nltk_data...\n",
      "[nltk_data]    |   Package state_union is already up-to-date!\n",
      "[nltk_data]    | Downloading package stopwords to\n",
      "[nltk_data]    |     /Users/marco/nltk_data...\n",
      "[nltk_data]    |   Package stopwords is already up-to-date!\n",
      "[nltk_data]    | Downloading package swadesh to\n",
      "[nltk_data]    |     /Users/marco/nltk_data...\n",
      "[nltk_data]    |   Package swadesh is already up-to-date!\n",
      "[nltk_data]    | Downloading package timit to\n",
      "[nltk_data]    |     /Users/marco/nltk_data...\n",
      "[nltk_data]    |   Package timit is already up-to-date!\n",
      "[nltk_data]    | Downloading package treebank to\n",
      "[nltk_data]    |     /Users/marco/nltk_data...\n",
      "[nltk_data]    |   Package treebank is already up-to-date!\n",
      "[nltk_data]    | Downloading package toolbox to\n",
      "[nltk_data]    |     /Users/marco/nltk_data...\n",
      "[nltk_data]    |   Package toolbox is already up-to-date!\n",
      "[nltk_data]    | Downloading package udhr to /Users/marco/nltk_data...\n",
      "[nltk_data]    |   Package udhr is already up-to-date!\n",
      "[nltk_data]    | Downloading package udhr2 to\n",
      "[nltk_data]    |     /Users/marco/nltk_data...\n",
      "[nltk_data]    |   Package udhr2 is already up-to-date!\n",
      "[nltk_data]    | Downloading package unicode_samples to\n",
      "[nltk_data]    |     /Users/marco/nltk_data...\n",
      "[nltk_data]    |   Package unicode_samples is already up-to-date!\n",
      "[nltk_data]    | Downloading package webtext to\n",
      "[nltk_data]    |     /Users/marco/nltk_data...\n",
      "[nltk_data]    |   Package webtext is already up-to-date!\n",
      "[nltk_data]    | Downloading package wordnet to\n",
      "[nltk_data]    |     /Users/marco/nltk_data...\n",
      "[nltk_data]    |   Package wordnet is already up-to-date!\n",
      "[nltk_data]    | Downloading package wordnet_ic to\n",
      "[nltk_data]    |     /Users/marco/nltk_data...\n",
      "[nltk_data]    |   Package wordnet_ic is already up-to-date!\n",
      "[nltk_data]    | Downloading package words to\n",
      "[nltk_data]    |     /Users/marco/nltk_data...\n",
      "[nltk_data]    |   Package words is already up-to-date!\n",
      "[nltk_data]    | Downloading package maxent_treebank_pos_tagger to\n",
      "[nltk_data]    |     /Users/marco/nltk_data...\n",
      "[nltk_data]    |   Package maxent_treebank_pos_tagger is already up-\n",
      "[nltk_data]    |       to-date!\n",
      "[nltk_data]    | Downloading package maxent_ne_chunker to\n",
      "[nltk_data]    |     /Users/marco/nltk_data...\n",
      "[nltk_data]    |   Package maxent_ne_chunker is already up-to-date!\n",
      "[nltk_data]    | Downloading package universal_tagset to\n",
      "[nltk_data]    |     /Users/marco/nltk_data...\n",
      "[nltk_data]    |   Package universal_tagset is already up-to-date!\n",
      "[nltk_data]    | Downloading package punkt to\n",
      "[nltk_data]    |     /Users/marco/nltk_data...\n",
      "[nltk_data]    |   Package punkt is already up-to-date!\n",
      "[nltk_data]    | Downloading package book_grammars to\n",
      "[nltk_data]    |     /Users/marco/nltk_data...\n",
      "[nltk_data]    |   Package book_grammars is already up-to-date!\n",
      "[nltk_data]    | Downloading package city_database to\n",
      "[nltk_data]    |     /Users/marco/nltk_data...\n",
      "[nltk_data]    |   Package city_database is already up-to-date!\n",
      "[nltk_data]    | Downloading package tagsets to\n",
      "[nltk_data]    |     /Users/marco/nltk_data...\n",
      "[nltk_data]    |   Package tagsets is already up-to-date!\n",
      "[nltk_data]    | Downloading package panlex_swadesh to\n",
      "[nltk_data]    |     /Users/marco/nltk_data...\n",
      "[nltk_data]    |   Package panlex_swadesh is already up-to-date!\n",
      "[nltk_data]    | Downloading package averaged_perceptron_tagger to\n",
      "[nltk_data]    |     /Users/marco/nltk_data...\n",
      "[nltk_data]    |   Package averaged_perceptron_tagger is already up-\n",
      "[nltk_data]    |       to-date!\n",
      "[nltk_data]    | \n",
      "[nltk_data]  Done downloading collection book\n"
     ]
    },
    {
     "data": {
      "text/plain": [
       "True"
      ]
     },
     "execution_count": 2,
     "metadata": {},
     "output_type": "execute_result"
    }
   ],
   "source": [
    "nltk.download('book')"
   ]
  },
  {
   "cell_type": "code",
   "execution_count": 3,
   "metadata": {
    "id": "HPEzdVdHrPWA"
   },
   "outputs": [],
   "source": [
    "import matplotlib.pyplot as plt\n",
    "%matplotlib inline\n",
    "plt.rcParams['figure.figsize'] = (8, 6)"
   ]
  },
  {
   "cell_type": "code",
   "execution_count": 4,
   "metadata": {
    "id": "_xXBQ0R3sDp0"
   },
   "outputs": [],
   "source": [
    "fname = '../abstrct/AbstRCT_corpus/data/train/neoplasm_train/10561201.txt'\n",
    "annot = '../abstrct/AbstRCT_corpus/data/train/neoplasm_train/10561201.ann'"
   ]
  },
  {
   "cell_type": "code",
   "execution_count": 5,
   "metadata": {
    "colab": {
     "base_uri": "https://localhost:8080/",
     "height": 190
    },
    "id": "Z0fCs5dqtRFv",
    "outputId": "986fcb1b-dd11-4aa0-c43e-9a21d3e5a06a"
   },
   "outputs": [
    {
     "data": {
      "text/plain": [
       "' A combination of mitoxantrone plus prednisone is preferable to prednisone alone for reduction of pain in men with metastatic, hormone-resistant, prostate cancer. The purpose of this study was to assess the effects of these treatments on health-related quality of life (HQL). Men with metastatic prostate cancer (n = 161) were randomized to receive either daily prednisone alone or mitoxantrone (every 3 weeks) plus prednisone. Those who received prednisone alone could have mitoxantrone added after 6 weeks if there was no improvement in pain. HQL was assessed before treatment initiation and then every 3 weeks using the European Organization for Research and Treatment of Cancer Quality-of-Life Questionnaire C30 (EORTC QLQ-C30) and the Quality of Life Module-Prostate 14 (QOLM-P14), a trial-specific module developed for this study. An intent-to-treat analysis was used to determine the mean duration of HQL improvement and differences in improvement duration between groups of patients. At 6 weeks, both groups showed improvement in several HQL domains, and only physical functioning and pain were better in the mitoxantrone-plus-prednisone group than in the prednisone-alone group. After 6 weeks, patients taking prednisone showed no improvement in HQL scores, whereas those taking mitoxantrone plus prednisone showed significant improvements in global quality of life (P =.009), four functioning domains, and nine symptoms (.001 < P <. 01), and the improvement (> 10 units on a scale of 0 to100) lasted longer than in the prednisone-alone group (.004 < P <.05). The addition of mitoxantrone to prednisone after failure of prednisone alone was associated with improvements in pain, pain impact, pain relief, insomnia, and global quality of life (.001 < P <.003). Treatment with mitoxantrone plus prednisone was associated with greater and longer-lasting improvement in several HQL domains and symptoms than treatment with prednisone alone. '"
      ]
     },
     "execution_count": 5,
     "metadata": {},
     "output_type": "execute_result"
    }
   ],
   "source": [
    "raw = [line for line in open(fname, 'r')][0]\n",
    "raw"
   ]
  },
  {
   "cell_type": "code",
   "execution_count": 6,
   "metadata": {
    "colab": {
     "base_uri": "https://localhost:8080/"
    },
    "id": "Oeisw6ejtoua",
    "outputId": "7807011b-a50b-4a38-a744-508e32a31898"
   },
   "outputs": [
    {
     "data": {
      "text/plain": [
       "290"
      ]
     },
     "execution_count": 6,
     "metadata": {},
     "output_type": "execute_result"
    }
   ],
   "source": [
    "words = raw.strip().split()\n",
    "len(words)"
   ]
  },
  {
   "cell_type": "code",
   "execution_count": 7,
   "metadata": {
    "colab": {
     "base_uri": "https://localhost:8080/"
    },
    "id": "ODpXR_QztwlH",
    "outputId": "7a4f934d-797c-40a4-a3b3-2ee4f06969bf"
   },
   "outputs": [
    {
     "data": {
      "text/plain": [
       "[('of', 14), ('in', 11), ('and', 11), ('prednisone', 10), ('the', 8)]"
      ]
     },
     "execution_count": 7,
     "metadata": {},
     "output_type": "execute_result"
    }
   ],
   "source": [
    "from collections import Counter\n",
    "\n",
    "c = Counter(words)\n",
    "c.most_common(5)"
   ]
  },
  {
   "cell_type": "code",
   "execution_count": 8,
   "metadata": {
    "id": "1zBjopRouEFK"
   },
   "outputs": [],
   "source": [
    "d = dict(c.most_common(5))"
   ]
  },
  {
   "cell_type": "code",
   "execution_count": 9,
   "metadata": {
    "colab": {
     "base_uri": "https://localhost:8080/",
     "height": 391
    },
    "id": "sF52qb0SuHlx",
    "outputId": "58ebc279-9bce-4092-fe35-c5a3d54c42f0"
   },
   "outputs": [
    {
     "data": {
      "text/plain": [
       "<BarContainer object of 5 artists>"
      ]
     },
     "execution_count": 9,
     "metadata": {},
     "output_type": "execute_result"
    },
    {
     "data": {
      "image/png": "[encoded data removed]",
      "text/plain": [
       "<Figure size 576x432 with 1 Axes>"
      ]
     },
     "metadata": {
      "needs_background": "light"
     },
     "output_type": "display_data"
    }
   ],
   "source": [
    "plt.bar(d.keys(), d.values())"
   ]
  },
  {
   "cell_type": "code",
   "execution_count": 10,
   "metadata": {
    "colab": {
     "base_uri": "https://localhost:8080/",
     "height": 445
    },
    "id": "CaDzsYKEuSBv",
    "outputId": "9e1270e7-99bb-4f6a-d589-3050ea0bb1d2"
   },
   "outputs": [
    {
     "data": {
      "image/png": "[encoded data removed]",
      "text/plain": [
       "<Figure size 576x432 with 1 Axes>"
      ]
     },
     "metadata": {
      "needs_background": "light"
     },
     "output_type": "display_data"
    },
    {
     "data": {
      "text/plain": [
       "<AxesSubplot:xlabel='Samples', ylabel='Counts'>"
      ]
     },
     "execution_count": 10,
     "metadata": {},
     "output_type": "execute_result"
    }
   ],
   "source": [
    "cleaned = words[:]\n",
    "\n",
    "for word in words:\n",
    "  if word in stopwords.words('english'):\n",
    "    cleaned.remove(word)\n",
    "\n",
    "freq = nltk.FreqDist(cleaned)\n",
    "freq.plot(20, cumulative=False)"
   ]
  },
  {
   "cell_type": "code",
   "execution_count": 11,
   "metadata": {
    "colab": {
     "base_uri": "https://localhost:8080/"
    },
    "id": "-HesO-wjuwK8",
    "outputId": "209d46c6-4506-47a0-bf32-1c2784f54e82"
   },
   "outputs": [
    {
     "data": {
      "text/plain": [
       "[('prednisone', 10),\n",
       " ('improvement', 7),\n",
       " ('mitoxantrone', 6),\n",
       " ('HQL', 5),\n",
       " ('plus', 4)]"
      ]
     },
     "execution_count": 11,
     "metadata": {},
     "output_type": "execute_result"
    }
   ],
   "source": [
    "c = Counter(cleaned)\n",
    "c.most_common(5)"
   ]
  },
  {
   "cell_type": "code",
   "execution_count": 12,
   "metadata": {
    "id": "EPtlxRxDvWTz"
   },
   "outputs": [],
   "source": [
    "sentences = raw.strip()"
   ]
  },
  {
   "cell_type": "code",
   "execution_count": 13,
   "metadata": {
    "colab": {
     "base_uri": "https://localhost:8080/"
    },
    "id": "aublzIxAvZ_Y",
    "outputId": "ca5b18ff-9cad-48ac-87be-a3bf4f2be5bd"
   },
   "outputs": [
    {
     "data": {
      "text/plain": [
       "['A combination of mitoxantrone plus prednisone is preferable to prednisone alone for reduction of pain in men with metastatic, hormone-resistant, prostate cancer',\n",
       " ' The purpose of this study was to assess the effects of these treatments on health-related quality of life (HQL)',\n",
       " ' Men with metastatic prostate cancer (n = 161) were randomized to receive either daily prednisone alone or mitoxantrone (every 3 weeks) plus prednisone',\n",
       " ' Those who received prednisone alone could have mitoxantrone added after 6 weeks if there was no improvement in pain',\n",
       " ' HQL was assessed before treatment initiation and then every 3 weeks using the European Organization for Research and Treatment of Cancer Quality-of-Life Questionnaire C30 (EORTC QLQ-C30) and the Quality of Life Module-Prostate 14 (QOLM-P14), a trial-specific module developed for this study',\n",
       " ' An intent-to-treat analysis was used to determine the mean duration of HQL improvement and differences in improvement duration between groups of patients',\n",
       " ' At 6 weeks, both groups showed improvement in several HQL domains, and only physical functioning and pain were better in the mitoxantrone-plus-prednisone group than in the prednisone-alone group',\n",
       " ' After 6 weeks, patients taking prednisone showed no improvement in HQL scores, whereas those taking mitoxantrone plus prednisone showed significant improvements in global quality of life (P =',\n",
       " '009), four functioning domains, and nine symptoms (',\n",
       " '001 < P <',\n",
       " ' 01), and the improvement (> 10 units on a scale of 0 to100) lasted longer than in the prednisone-alone group (',\n",
       " '004 < P <',\n",
       " '05)',\n",
       " ' The addition of mitoxantrone to prednisone after failure of prednisone alone was associated with improvements in pain, pain impact, pain relief, insomnia, and global quality of life (',\n",
       " '001 < P <',\n",
       " '003)',\n",
       " ' Treatment with mitoxantrone plus prednisone was associated with greater and longer-lasting improvement in several HQL domains and symptoms than treatment with prednisone alone',\n",
       " '']"
      ]
     },
     "execution_count": 13,
     "metadata": {},
     "output_type": "execute_result"
    }
   ],
   "source": [
    "sentences.split('.')"
   ]
  },
  {
   "cell_type": "code",
   "execution_count": 14,
   "metadata": {
    "colab": {
     "base_uri": "https://localhost:8080/"
    },
    "id": "GcHSUqIpvlo9",
    "outputId": "f3ec9bd6-a1c4-4487-908f-0d6f84fd724b"
   },
   "outputs": [
    {
     "name": "stdout",
     "output_type": "stream",
     "text": [
      "A combination of mitoxantrone plus prednisone is preferable to prednisone alone for reduction of pain in men with metastatic, hormone-resistant, prostate cancer.\n",
      "\n",
      "The purpose of this study was to assess the effects of these treatments on health-related quality of life (HQL).\n",
      "\n",
      "Men with metastatic prostate cancer (n = 161) were randomized to receive either daily prednisone alone or mitoxantrone (every 3 weeks) plus prednisone.\n",
      "\n",
      "Those who received prednisone alone could have mitoxantrone added after 6 weeks if there was no improvement in pain.\n",
      "\n",
      "HQL was assessed before treatment initiation and then every 3 weeks using the European Organization for Research and Treatment of Cancer Quality-of-Life Questionnaire C30 (EORTC QLQ-C30) and the Quality of Life Module-Prostate 14 (QOLM-P14), a trial-specific module developed for this study.\n",
      "\n",
      "An intent-to-treat analysis was used to determine the mean duration of HQL improvement and differences in improvement duration between groups of patients.\n",
      "\n",
      "At 6 weeks, both groups showed improvement in several HQL domains, and only physical functioning and pain were better in the mitoxantrone-plus-prednisone group than in the prednisone-alone group.\n",
      "\n",
      "After 6 weeks, patients taking prednisone showed no improvement in HQL scores, whereas those taking mitoxantrone plus prednisone showed significant improvements in global quality of life (P =.009), four functioning domains, and nine symptoms (.001 < P <.\n",
      "\n",
      "01), and the improvement (> 10 units on a scale of 0 to100) lasted longer than in the prednisone-alone group (.004 < P <.05).\n",
      "\n",
      "The addition of mitoxantrone to prednisone after failure of prednisone alone was associated with improvements in pain, pain impact, pain relief, insomnia, and global quality of life (.001 < P <.003).\n",
      "\n",
      "Treatment with mitoxantrone plus prednisone was associated with greater and longer-lasting improvement in several HQL domains and symptoms than treatment with prednisone alone.\n",
      "\n"
     ]
    },
    {
     "data": {
      "text/plain": [
       "11"
      ]
     },
     "execution_count": 14,
     "metadata": {},
     "output_type": "execute_result"
    }
   ],
   "source": [
    "sentences = nltk.sent_tokenize(raw.strip())\n",
    "for s in sentences:\n",
    "  print(s)\n",
    "  print()\n",
    "\n",
    "len(sentences)"
   ]
  },
  {
   "cell_type": "code",
   "execution_count": 15,
   "metadata": {
    "colab": {
     "base_uri": "https://localhost:8080/"
    },
    "id": "JI9pbaQcwDzB",
    "outputId": "d725eaed-f5e1-49db-f8eb-e99ef2611eca"
   },
   "outputs": [
    {
     "name": "stdout",
     "output_type": "stream",
     "text": [
      "['T1', 'MajorClaim 1 162', 'A combination of mitoxantrone plus prednisone is preferable to prednisone alone for reduction of pain in men with metastatic, hormone-resistant, prostate cancer.']\n",
      "['T2', 'Premise 992 1058', 'At 6 weeks, both groups showed improvement in several HQL domains,']\n",
      "['T3', 'Premise 1063 1187', 'only physical functioning and pain were better in the mitoxantrone-plus-prednisone group than in the prednisone-alone group.']\n",
      "['T4', 'Premise 1188 1447', 'After 6 weeks, patients taking prednisone showed no improvement in HQL scores, whereas those taking mitoxantrone plus prednisone showed significant improvements in global quality of life (P =.009), four functioning domains, and nine symptoms (.001 < P <. 01),']\n",
      "['T6', 'Premise 1452 1568', 'the improvement (> 10 units on a scale of 0 to100) lasted longer than in the prednisone-alone group (.004 < P <.05).']\n",
      "['T7', 'Premise 1569 1768', 'The addition of mitoxantrone to prednisone after failure of prednisone alone was associated with improvements in pain, pain impact, pain relief, insomnia, and global quality of life (.001 < P <.003).']\n",
      "['T8', 'Claim 1769 1945', 'Treatment with mitoxantrone plus prednisone was associated with greater and longer-lasting improvement in several HQL domains and symptoms than treatment with prednisone alone.']\n"
     ]
    },
    {
     "data": {
      "text/plain": [
       "7"
      ]
     },
     "execution_count": 15,
     "metadata": {},
     "output_type": "execute_result"
    }
   ],
   "source": [
    "annotated = []\n",
    "with open(annot, 'r') as infile:\n",
    "  r = infile.readlines()\n",
    "  for row in r:\n",
    "    if re.match('^T\\d', row):\n",
    "      annotated.append(row.strip().split('\\t'))\n",
    "\n",
    "for i in annotated:\n",
    "  print(i)\n",
    "\n",
    "len(annotated)"
   ]
  },
  {
   "cell_type": "code",
   "execution_count": 16,
   "metadata": {
    "id": "0SKI8malxoGj"
   },
   "outputs": [],
   "source": [
    "def cosine_similarity(sent1, sent2):\n",
    "  \"\"\"\n",
    "  1 - collect all the words of the 2 sentences\n",
    "  2 - create 2 vectors (one for each sentence)\n",
    "  3 - calculate the cosine of the angle between the 2 vectors\n",
    "  \"\"\"\n",
    "  first = nltk.word_tokenize(sent1)\n",
    "  second = nltk.word_tokenize(sent2)\n",
    "  l1 = []\n",
    "  l2 = []\n",
    "  x = { w for w in first if w not in stopwords.words('english')}\n",
    "  y = { w for w in second if w not in stopwords.words('english')}\n",
    "  \n",
    "  rvector = x.union(y)\n",
    "  l1 = [1 if w in x else 0 for w in rvector]\n",
    "  l2 = [1 if w in y else 0 for w in rvector]\n",
    "  \n",
    "  c = 0\n",
    "  for i in range(len(rvector)):\n",
    "    c += l1[i] * l2[i]\n",
    "  \n",
    "  cosine = c / float((sum(l1) * sum(l2)) ** 0.5)\n",
    "  return cosine\n"
   ]
  },
  {
   "cell_type": "code",
   "execution_count": 17,
   "metadata": {
    "colab": {
     "base_uri": "https://localhost:8080/"
    },
    "id": "ikVHDrQCySgM",
    "outputId": "11543dfe-0cf3-4898-cc1b-3ca044e12c47"
   },
   "outputs": [
    {
     "name": "stdout",
     "output_type": "stream",
     "text": [
      "0.8164965809277261\n"
     ]
    }
   ],
   "source": [
    "s1 = \"hello world\"\n",
    "s2 = \"hello world it's me\"\n",
    "print(cosine_similarity(s1, s2))"
   ]
  },
  {
   "cell_type": "code",
   "execution_count": 18,
   "metadata": {
    "colab": {
     "base_uri": "https://localhost:8080/"
    },
    "id": "x3mWJiL7z1QY",
    "outputId": "35793baa-7eb8-411b-f1b3-176b8bd9387c"
   },
   "outputs": [
    {
     "name": "stdout",
     "output_type": "stream",
     "text": [
      "ORIG A combination of mitoxantrone plus prednisone is preferable to prednisone alone for reduction of pain in men with metastatic, hormone-resistant, prostate cancer.\n",
      "\n",
      "ANN A combination of mitoxantrone plus prednisone is preferable to prednisone alone for reduction of pain in men with metastatic, hormone-resistant, prostate cancer.\n",
      "\n",
      "SIM = 1.0\n",
      "------\n",
      "ORIG The purpose of this study was to assess the effects of these treatments on health-related quality of life (HQL).\n",
      "\n",
      "ANN The addition of mitoxantrone to prednisone after failure of prednisone alone was associated with improvements in pain, pain impact, pain relief, insomnia, and global quality of life (.001 < P <.003).\n",
      "\n",
      "SIM = 0.34698895917974415\n",
      "------\n",
      "ORIG Men with metastatic prostate cancer (n = 161) were randomized to receive either daily prednisone alone or mitoxantrone (every 3 weeks) plus prednisone.\n",
      "\n",
      "ANN A combination of mitoxantrone plus prednisone is preferable to prednisone alone for reduction of pain in men with metastatic, hormone-resistant, prostate cancer.\n",
      "\n",
      "SIM = 0.4364357804719848\n",
      "------\n",
      "ORIG Those who received prednisone alone could have mitoxantrone added after 6 weeks if there was no improvement in pain.\n",
      "\n",
      "ANN Treatment with mitoxantrone plus prednisone was associated with greater and longer-lasting improvement in several HQL domains and symptoms than treatment with prednisone alone.\n",
      "\n",
      "SIM = 0.37267799624996495\n",
      "------\n",
      "ORIG HQL was assessed before treatment initiation and then every 3 weeks using the European Organization for Research and Treatment of Cancer Quality-of-Life Questionnaire C30 (EORTC QLQ-C30) and the Quality of Life Module-Prostate 14 (QOLM-P14), a trial-specific module developed for this study.\n",
      "\n",
      "ANN After 6 weeks, patients taking prednisone showed no improvement in HQL scores, whereas those taking mitoxantrone plus prednisone showed significant improvements in global quality of life (P =.009), four functioning domains, and nine symptoms (.001 < P <. 01),\n",
      "\n",
      "SIM = 0.19050019050028574\n",
      "------\n",
      "ORIG An intent-to-treat analysis was used to determine the mean duration of HQL improvement and differences in improvement duration between groups of patients.\n",
      "\n",
      "ANN At 6 weeks, both groups showed improvement in several HQL domains,\n",
      "\n",
      "SIM = 0.2631174057921088\n",
      "------\n",
      "ORIG At 6 weeks, both groups showed improvement in several HQL domains, and only physical functioning and pain were better in the mitoxantrone-plus-prednisone group than in the prednisone-alone group.\n",
      "\n",
      "ANN At 6 weeks, both groups showed improvement in several HQL domains,\n",
      "\n",
      "SIM = 0.7453559924999299\n",
      "------\n",
      "ORIG After 6 weeks, patients taking prednisone showed no improvement in HQL scores, whereas those taking mitoxantrone plus prednisone showed significant improvements in global quality of life (P =.009), four functioning domains, and nine symptoms (.001 < P <.\n",
      "\n",
      "ANN After 6 weeks, patients taking prednisone showed no improvement in HQL scores, whereas those taking mitoxantrone plus prednisone showed significant improvements in global quality of life (P =.009), four functioning domains, and nine symptoms (.001 < P <. 01),\n",
      "\n",
      "SIM = 0.9842509842514764\n",
      "------\n",
      "ORIG 01), and the improvement (> 10 units on a scale of 0 to100) lasted longer than in the prednisone-alone group (.004 < P <.05).\n",
      "\n",
      "ANN the improvement (> 10 units on a scale of 0 to100) lasted longer than in the prednisone-alone group (.004 < P <.05).\n",
      "\n",
      "SIM = 0.9486832980505138\n",
      "------\n",
      "ORIG The addition of mitoxantrone to prednisone after failure of prednisone alone was associated with improvements in pain, pain impact, pain relief, insomnia, and global quality of life (.001 < P <.003).\n",
      "\n",
      "ANN The addition of mitoxantrone to prednisone after failure of prednisone alone was associated with improvements in pain, pain impact, pain relief, insomnia, and global quality of life (.001 < P <.003).\n",
      "\n",
      "SIM = 1.0\n",
      "------\n",
      "ORIG Treatment with mitoxantrone plus prednisone was associated with greater and longer-lasting improvement in several HQL domains and symptoms than treatment with prednisone alone.\n",
      "\n",
      "ANN Treatment with mitoxantrone plus prednisone was associated with greater and longer-lasting improvement in several HQL domains and symptoms than treatment with prednisone alone.\n",
      "\n",
      "SIM = 1.0\n",
      "------\n"
     ]
    }
   ],
   "source": [
    "# tell the 7 arguments out of the 11 sentences in raw\n",
    "for sent1 in sentences:\n",
    "  match = ''\n",
    "  similarity = 0\n",
    "  for annotation in annotated:\n",
    "    sent2 = annotation[2]\n",
    "    cs = cosine_similarity(sent1, sent2)\n",
    "    if cs > similarity:\n",
    "      similarity = cs\n",
    "      match = sent2\n",
    "  \n",
    "  print(f'ORIG {sent1}')\n",
    "  print()\n",
    "  print(f'ANN {match}')\n",
    "  print()\n",
    "  print(f'SIM = {similarity}')\n",
    "  print('------')\n"
   ]
  },
  {
   "cell_type": "code",
   "execution_count": null,
   "metadata": {
    "colab": {
     "base_uri": "https://localhost:8080/"
    },
    "id": "tRdxJS0SBoO9",
    "outputId": "e36ff2c9-f562-48f8-ee80-48e5a1462624"
   },
   "outputs": [],
   "source": [
    "!ls"
   ]
  },
  {
   "cell_type": "code",
   "execution_count": 19,
   "metadata": {
    "id": "2aWsXYVxF5Ol"
   },
   "outputs": [],
   "source": [
    "datadir = '../abstrct/AbstRCT_corpus/data/train/neoplasm_train'\n",
    "testdir = '../abstrct/AbstRCT_corpus/data/test/neoplasm_test'\n",
    "\n",
    "train_raw_files = [f for f in os.listdir(datadir) if f.endswith('.txt')]  # len = 350\n",
    "train_ann_files = [f for f in os.listdir(datadir) if f.endswith('.ann')]  # len = 350\n",
    "\n",
    "test_raw_files = [f for f in os.listdir(testdir) if f.endswith('.txt')]   # len = 100\n",
    "test_ann_files = [f for f in os.listdir(testdir) if f.endswith('.ann')]   # len = 100"
   ]
  },
  {
   "cell_type": "code",
   "execution_count": 20,
   "metadata": {
    "colab": {
     "base_uri": "https://localhost:8080/"
    },
    "id": "09xraFo0GbJK",
    "outputId": "da76040d-0557-48cb-d7d2-95bb916c7ee0"
   },
   "outputs": [
    {
     "data": {
      "text/plain": [
       "100"
      ]
     },
     "execution_count": 20,
     "metadata": {},
     "output_type": "execute_result"
    }
   ],
   "source": [
    "len(test_ann_files)"
   ]
  },
  {
   "cell_type": "code",
   "execution_count": 21,
   "metadata": {
    "id": "AkHN3aQcGo9s"
   },
   "outputs": [],
   "source": [
    "# I want 2 dictionaries: {fname: raw_tdef extract_annotated(fpath):\n",
    "def extract_annotated(fpath):\n",
    "  res = []\n",
    "  with open(fpath, 'r') as infile:\n",
    "    r = infile.readlines()\n",
    "    for row in r:\n",
    "      if re.match('^T\\d', row):\n",
    "        arg_tag, annotation, text = row.strip().split('\\t')\n",
    "        fname = os.path.basename(fpath).replace('.ann', '')\n",
    "        name = f'{fname}-{arg_tag}'\n",
    "        is_arg = annotation.split()[0]\n",
    "        res.append((name, is_arg, text))\n",
    "  return res\n"
   ]
  },
  {
   "cell_type": "code",
   "execution_count": 22,
   "metadata": {
    "id": "8wADhZF4Jx_5"
   },
   "outputs": [],
   "source": [
    "from collections import defaultdict\n",
    "\n",
    "train_ann_dict = defaultdict(list) # 350\n",
    "test_ann_dict = defaultdict(list)  # 100\n",
    "\n",
    "for f in train_ann_files:\n",
    "  fname = f.replace('.ann', '')\n",
    "  filepath = os.path.join(datadir, f)\n",
    "  train_ann_dict[fname] = extract_annotated(filepath)\n",
    "\n",
    "\n",
    "for f in test_ann_files:\n",
    "  fname = f.replace('.ann', '')\n",
    "  filepath = os.path.join(testdir, f)\n",
    "  test_ann_dict[fname] = extract_annotated(filepath)"
   ]
  },
  {
   "cell_type": "code",
   "execution_count": 23,
   "metadata": {
    "id": "k2N1TXcELNL9"
   },
   "outputs": [],
   "source": [
    "train_raw_dict = {}  # 350 files\n",
    "test_raw_dict = {}   # 100 files\n",
    "\n",
    "for f in train_raw_files:\n",
    "  with open(os.path.join(datadir, f), 'r') as infile:\n",
    "    train_raw_dict[f.replace('.txt', '')] = infile.read().strip()\n",
    "\n",
    "\n",
    "for f in test_raw_files:\n",
    "  with open(os.path.join(testdir, f), 'r') as infile:\n",
    "    test_raw_dict[f.replace('.txt', '')] = infile.read().strip()  "
   ]
  },
  {
   "cell_type": "code",
   "execution_count": 24,
   "metadata": {
    "colab": {
     "base_uri": "https://localhost:8080/"
    },
    "id": "WKBxlcTMK1Lo",
    "outputId": "59302381-f20f-40a7-f5a7-2bc850c6043c"
   },
   "outputs": [
    {
     "data": {
      "text/plain": [
       "[('16294343-T2',\n",
       "  'Premise',\n",
       "  'Participants completing the intervention demonstrated improvement in male overall distress (P < 0.01), male global sexual function (P < 0.0001), and female global sexual function (P < 0.05) at 3-month follow-up,'),\n",
       " ('16294343-T3',\n",
       "  'Premise',\n",
       "  'but regression toward baseline was noted at 6-month follow-up.'),\n",
       " ('16294343-T4',\n",
       "  'Premise',\n",
       "  'However, utilization of ED treatments increased from 31% at the time of study entry to 49% at the 6-month follow-up (P = 0.003).'),\n",
       " ('16294343-T5',\n",
       "  'Claim',\n",
       "  'The results of this brief pilot counseling intervention demonstrated significant gains in sexual function and satisfaction and increased utilization of treatments for ED.'),\n",
       " ('16294343-T6',\n",
       "  'Claim',\n",
       "  'However, modifications are needed in future randomized trials to reduce the rate of premature termination and to improve long-term maintenance of gains.')]"
      ]
     },
     "execution_count": 24,
     "metadata": {},
     "output_type": "execute_result"
    }
   ],
   "source": [
    "train_ann_dict['16294343']"
   ]
  },
  {
   "cell_type": "code",
   "execution_count": 25,
   "metadata": {},
   "outputs": [
    {
     "data": {
      "text/plain": [
       "350"
      ]
     },
     "execution_count": 25,
     "metadata": {},
     "output_type": "execute_result"
    }
   ],
   "source": [
    "len(train_raw_dict)"
   ]
  },
  {
   "cell_type": "code",
   "execution_count": 44,
   "metadata": {
    "id": "pqHR7zp2MiUu"
   },
   "outputs": [
    {
     "name": "stderr",
     "output_type": "stream",
     "text": [
      "  0%|                                                                                                                         | 0/350 [03:20<?, ?it/s]\n"
     ]
    }
   ],
   "source": [
    "from tqdm.notebook import tqdm\n",
    "def extract_sentences(raw_dict, ann_dict):\n",
    "    data = []\n",
    "\n",
    "    for fname, raw_text in tqdm(raw_dict.items()):\n",
    "        sentences = nltk.sent_tokenize(raw_text.strip())   # from the raw text\n",
    "        arguments = [x[1] for x in ann_dict[fname]]        # from the annotation\n",
    "        annotated = [x[2] for x in ann_dict[fname]]        # from the annotation\n",
    "        for sent1 in sentences:\n",
    "            match = ''\n",
    "            similarity = 0\n",
    "            annotated_arg = ''\n",
    "            for arg, sent2 in zip(arguments, annotated):\n",
    "                cs = cosine_similarity(sent1, sent2)\n",
    "                if cs > similarity and cs > 0.8:\n",
    "                    # it is a match!\n",
    "                    similarity = cs\n",
    "                    match = sent2\n",
    "                    annotated_arg = arg\n",
    "                    break\n",
    "            if not match:\n",
    "                is_argumentative = 0\n",
    "            else:\n",
    "                is_argumentative = 1\n",
    "\n",
    "        data.append((sent1, is_argumentative, annotated_arg))\n",
    "  \n",
    "    return data"
   ]
  },
  {
   "cell_type": "code",
   "execution_count": 45,
   "metadata": {},
   "outputs": [
    {
     "data": {
      "application/vnd.jupyter.widget-view+json": {
       "model_id": "10a2775cfc0d4d54b7a9c5f10ece9d3f",
       "version_major": 2,
       "version_minor": 0
      },
      "text/plain": [
       "  0%|          | 0/350 [00:00<?, ?it/s]"
      ]
     },
     "metadata": {},
     "output_type": "display_data"
    }
   ],
   "source": [
    "train_data = extract_sentences(train_raw_dict, train_ann_dict)"
   ]
  },
  {
   "cell_type": "code",
   "execution_count": 46,
   "metadata": {
    "id": "ti5LFH02Ohd-"
   },
   "outputs": [
    {
     "data": {
      "application/vnd.jupyter.widget-view+json": {
       "model_id": "4bbe43dac0ae47edb21775ff16f20b12",
       "version_major": 2,
       "version_minor": 0
      },
      "text/plain": [
       "  0%|          | 0/100 [00:00<?, ?it/s]"
      ]
     },
     "metadata": {},
     "output_type": "display_data"
    }
   ],
   "source": [
    "test_data = extract_sentences(test_raw_dict, test_ann_dict)"
   ]
  },
  {
   "cell_type": "code",
   "execution_count": 47,
   "metadata": {
    "colab": {
     "base_uri": "https://localhost:8080/"
    },
    "id": "7fEBh-dlPAZz",
    "outputId": "010b76c2-f2f3-43cf-964a-9c50e6462998"
   },
   "outputs": [
    {
     "name": "stdout",
     "output_type": "stream",
     "text": [
      "350\n"
     ]
    }
   ],
   "source": [
    "print(len(train_data))"
   ]
  },
  {
   "cell_type": "code",
   "execution_count": 48,
   "metadata": {
    "colab": {
     "base_uri": "https://localhost:8080/"
    },
    "id": "NfBSKnvGPEEK",
    "outputId": "d001c206-79b2-4b2f-9a30-69f88ad02044"
   },
   "outputs": [
    {
     "name": "stdout",
     "output_type": "stream",
     "text": [
      "100\n"
     ]
    }
   ],
   "source": [
    "print(len(test_data))"
   ]
  },
  {
   "cell_type": "code",
   "execution_count": 49,
   "metadata": {
    "colab": {
     "base_uri": "https://localhost:8080/"
    },
    "id": "bXVEiHLJP945",
    "outputId": "56bde61d-e333-4f01-da93-938668fc0a6e"
   },
   "outputs": [
    {
     "data": {
      "text/plain": [
       "54"
      ]
     },
     "execution_count": 49,
     "metadata": {},
     "output_type": "execute_result"
    }
   ],
   "source": [
    "# train_data: [(sent, 0, 'Premise')....]\n",
    "len(list(filter(lambda x: x[1] == 0, train_data)))  # how many sentences are labelled as NON ARGUMENTATIVE"
   ]
  },
  {
   "cell_type": "code",
   "execution_count": 50,
   "metadata": {
    "id": "aeOFBlaxQjo8"
   },
   "outputs": [],
   "source": [
    "train = pd.DataFrame(train_data, columns=['text', 'label', 'arg'])"
   ]
  },
  {
   "cell_type": "code",
   "execution_count": 51,
   "metadata": {
    "colab": {
     "base_uri": "https://localhost:8080/"
    },
    "id": "Rs-LcoFMQqoE",
    "outputId": "319be592-b0ff-42c2-8463-a2f416cc36fe"
   },
   "outputs": [
    {
     "data": {
      "text/plain": [
       "Claim         271\n",
       "               54\n",
       "MajorClaim     21\n",
       "Premise         4\n",
       "Name: arg, dtype: int64"
      ]
     },
     "execution_count": 51,
     "metadata": {},
     "output_type": "execute_result"
    }
   ],
   "source": [
    "train['arg'].value_counts()"
   ]
  },
  {
   "cell_type": "code",
   "execution_count": 52,
   "metadata": {
    "id": "KarkBs9nRaAD"
   },
   "outputs": [],
   "source": [
    "test = pd.DataFrame(test_data, columns=['text', 'label', 'arg'])"
   ]
  },
  {
   "cell_type": "code",
   "execution_count": 53,
   "metadata": {
    "colab": {
     "base_uri": "https://localhost:8080/",
     "height": 203
    },
    "id": "ef7BxrRyR-mq",
    "outputId": "0c73a04d-5fa2-4d8b-df07-f5ef06aa9c62"
   },
   "outputs": [
    {
     "data": {
      "text/html": [
       "<div>\n",
       "<style scoped>\n",
       "    .dataframe tbody tr th:only-of-type {\n",
       "        vertical-align: middle;\n",
       "    }\n",
       "\n",
       "    .dataframe tbody tr th {\n",
       "        vertical-align: top;\n",
       "    }\n",
       "\n",
       "    .dataframe thead th {\n",
       "        text-align: right;\n",
       "    }\n",
       "</style>\n",
       "<table border=\"1\" class=\"dataframe\">\n",
       "  <thead>\n",
       "    <tr style=\"text-align: right;\">\n",
       "      <th></th>\n",
       "      <th>text</th>\n",
       "      <th>label</th>\n",
       "      <th>arg</th>\n",
       "    </tr>\n",
       "  </thead>\n",
       "  <tbody>\n",
       "    <tr>\n",
       "      <th>0</th>\n",
       "      <td>Most of the symptom control was achieved durin...</td>\n",
       "      <td>1</td>\n",
       "      <td>Premise</td>\n",
       "    </tr>\n",
       "    <tr>\n",
       "      <th>1</th>\n",
       "      <td>Thus, clinicians may consider replacing cispla...</td>\n",
       "      <td>1</td>\n",
       "      <td>Claim</td>\n",
       "    </tr>\n",
       "    <tr>\n",
       "      <th>2</th>\n",
       "      <td>This information is important when advising wo...</td>\n",
       "      <td>1</td>\n",
       "      <td>Claim</td>\n",
       "    </tr>\n",
       "    <tr>\n",
       "      <th>3</th>\n",
       "      <td>Physical training was equally effective as or ...</td>\n",
       "      <td>0</td>\n",
       "      <td></td>\n",
       "    </tr>\n",
       "    <tr>\n",
       "      <th>4</th>\n",
       "      <td>Neoadjuvant RCT is well tolerated and bears no...</td>\n",
       "      <td>1</td>\n",
       "      <td>Claim</td>\n",
       "    </tr>\n",
       "  </tbody>\n",
       "</table>\n",
       "</div>"
      ],
      "text/plain": [
       "                                                text  label      arg\n",
       "0  Most of the symptom control was achieved durin...      1  Premise\n",
       "1  Thus, clinicians may consider replacing cispla...      1    Claim\n",
       "2  This information is important when advising wo...      1    Claim\n",
       "3  Physical training was equally effective as or ...      0         \n",
       "4  Neoadjuvant RCT is well tolerated and bears no...      1    Claim"
      ]
     },
     "execution_count": 53,
     "metadata": {},
     "output_type": "execute_result"
    }
   ],
   "source": [
    "test.head()"
   ]
  },
  {
   "cell_type": "code",
   "execution_count": 58,
   "metadata": {
    "id": "gx-qlWYRRxc6"
   },
   "outputs": [],
   "source": [
    "def preprocess_text(text):\n",
    "  tokeniser = RegexpTokenizer(r'\\w+')\n",
    "  tokens = tokeniser.tokenize(text)\n",
    "\n",
    "  lemmatiser = WordNetLemmatizer()\n",
    "  lemmas = [lemmatiser.lemmatize(token.lower(), pos='v') for token in tokens]\n",
    "\n",
    "  keywords = [l for l in lemmas if l not in stopwords.words('english')]\n",
    "\n",
    "  return keywords"
   ]
  },
  {
   "cell_type": "code",
   "execution_count": 60,
   "metadata": {
    "id": "AG4cpNz1SUJP"
   },
   "outputs": [
    {
     "name": "stderr",
     "output_type": "stream",
     "text": [
      "[nltk_data] Downloading package omw-1.4 to /Users/marco/nltk_data...\n",
      "[nltk_data]   Unzipping corpora/omw-1.4.zip.\n"
     ]
    },
    {
     "data": {
      "text/plain": [
       "True"
      ]
     },
     "execution_count": 60,
     "metadata": {},
     "output_type": "execute_result"
    }
   ],
   "source": [
    "s = \"Hello my name is Marco\"\n",
    "nltk.download('omw-1.4')"
   ]
  },
  {
   "cell_type": "code",
   "execution_count": 61,
   "metadata": {
    "colab": {
     "base_uri": "https://localhost:8080/"
    },
    "id": "8hTkeHVhSW9L",
    "outputId": "bb1f9798-0f85-40e0-d4f2-b2ec8dc7d0f8"
   },
   "outputs": [
    {
     "data": {
      "text/plain": [
       "['hello', 'name', 'marco']"
      ]
     },
     "execution_count": 61,
     "metadata": {},
     "output_type": "execute_result"
    }
   ],
   "source": [
    "preprocess_text(s)"
   ]
  },
  {
   "cell_type": "code",
   "execution_count": 62,
   "metadata": {
    "id": "P55Ymz2TS6KC"
   },
   "outputs": [],
   "source": [
    "x_train, y_train = train['text'], train['label']\n",
    "x_test, y_test = test['text'], test['label']"
   ]
  },
  {
   "cell_type": "code",
   "execution_count": 63,
   "metadata": {
    "colab": {
     "base_uri": "https://localhost:8080/"
    },
    "id": "lbIWFR98TFxy",
    "outputId": "5a61535c-0e11-4eb0-9cd2-f816b771e49f"
   },
   "outputs": [
    {
     "data": {
      "text/plain": [
       "(100,)"
      ]
     },
     "execution_count": 63,
     "metadata": {},
     "output_type": "execute_result"
    }
   ],
   "source": [
    "x_test.shape"
   ]
  },
  {
   "cell_type": "code",
   "execution_count": 64,
   "metadata": {
    "colab": {
     "base_uri": "https://localhost:8080/"
    },
    "id": "PnzAAHtCTM_Z",
    "outputId": "59d5d23d-c068-464a-ed9e-f1f901a7506f"
   },
   "outputs": [
    {
     "data": {
      "text/plain": [
       "1    296\n",
       "0     54\n",
       "Name: label, dtype: int64"
      ]
     },
     "execution_count": 64,
     "metadata": {},
     "output_type": "execute_result"
    }
   ],
   "source": [
    "y_train.value_counts()"
   ]
  },
  {
   "cell_type": "code",
   "execution_count": 65,
   "metadata": {
    "id": "C4epXmXnTXyA"
   },
   "outputs": [],
   "source": [
    "vectoriser = TfidfVectorizer(analyzer=preprocess_text)"
   ]
  },
  {
   "cell_type": "code",
   "execution_count": 66,
   "metadata": {
    "colab": {
     "base_uri": "https://localhost:8080/"
    },
    "id": "-BSAUcMQTrve",
    "outputId": "04739dec-9dda-45a9-a50b-477a765c3dcb"
   },
   "outputs": [
    {
     "data": {
      "text/plain": [
       "(350, 1604)"
      ]
     },
     "execution_count": 66,
     "metadata": {},
     "output_type": "execute_result"
    }
   ],
   "source": [
    "x_train_tfidf = vectoriser.fit_transform(x_train)\n",
    "x_train_tfidf.shape"
   ]
  },
  {
   "cell_type": "code",
   "execution_count": 67,
   "metadata": {
    "id": "lOOYh111UV9i"
   },
   "outputs": [],
   "source": [
    "sgd_clf = SGDClassifier(random_state=42)\n",
    "sgd_clf_scores = cross_val_score(sgd_clf, x_train_tfidf, y_train, cv=5)"
   ]
  },
  {
   "cell_type": "code",
   "execution_count": 68,
   "metadata": {
    "colab": {
     "base_uri": "https://localhost:8080/"
    },
    "id": "dsKTRA5eVTR4",
    "outputId": "1016f56c-ee87-472e-c2d2-e2fe7f20f5c5"
   },
   "outputs": [
    {
     "name": "stdout",
     "output_type": "stream",
     "text": [
      "mean accuracy: 0.8257142857142856 +/- 0.03790428331834738\n"
     ]
    }
   ],
   "source": [
    "print(f'mean accuracy: {sgd_clf_scores.mean()} +/- {sgd_clf_scores.std() * 2}')"
   ]
  },
  {
   "cell_type": "code",
   "execution_count": 69,
   "metadata": {
    "id": "8SuGRfymVdZS"
   },
   "outputs": [],
   "source": [
    "sgd_clf_pred = cross_val_predict(sgd_clf, x_train_tfidf, y_train, cv=5)"
   ]
  },
  {
   "cell_type": "code",
   "execution_count": 70,
   "metadata": {
    "colab": {
     "base_uri": "https://localhost:8080/"
    },
    "id": "uxw_Y_4qV3Pr",
    "outputId": "6b2d0f21-5234-4fe5-ccfd-87ad91e7b3bd"
   },
   "outputs": [
    {
     "data": {
      "text/plain": [
       "array([[  3,  51],\n",
       "       [ 10, 286]])"
      ]
     },
     "execution_count": 70,
     "metadata": {},
     "output_type": "execute_result"
    }
   ],
   "source": [
    "confusion_matrix(y_train, sgd_clf_pred)"
   ]
  },
  {
   "cell_type": "code",
   "execution_count": 71,
   "metadata": {
    "colab": {
     "base_uri": "https://localhost:8080/"
    },
    "id": "bAKRW10VWJJI",
    "outputId": "fb021c5e-ca48-4e3d-d505-63eb433f9595"
   },
   "outputs": [
    {
     "data": {
      "text/plain": [
       "{'early_stopping': True, 'fit_intercept': True, 'loss': 'log', 'penalty': 'l1'}"
      ]
     },
     "execution_count": 71,
     "metadata": {},
     "output_type": "execute_result"
    }
   ],
   "source": [
    "grid = {'fit_intercept': [True, False],\n",
    "        'early_stopping': [True, False],\n",
    "        'loss': ['hinge', 'log', 'squared_hinge'],\n",
    "        'penalty': ['l2', 'l1', 'none']}\n",
    "\n",
    "search = GridSearchCV(estimator=sgd_clf, param_grid=grid, cv=5)\n",
    "search.fit(x_train_tfidf, y_train)\n",
    "search.best_params_"
   ]
  },
  {
   "cell_type": "code",
   "execution_count": 72,
   "metadata": {
    "colab": {
     "base_uri": "https://localhost:8080/"
    },
    "id": "HiShqBs9XCjr",
    "outputId": "3c86292a-719f-4d28-840e-0eb684ce8c87"
   },
   "outputs": [
    {
     "name": "stdout",
     "output_type": "stream",
     "text": [
      "mean accuracy: 0.8457142857142858 +/- 0.011428571428571389\n"
     ]
    }
   ],
   "source": [
    "grid_sgd_clf_scores = cross_val_score(search.best_estimator_, x_train_tfidf, y_train, cv=5)\n",
    "print(f'mean accuracy: {grid_sgd_clf_scores.mean()} +/- {grid_sgd_clf_scores.std() * 2}')"
   ]
  },
  {
   "cell_type": "code",
   "execution_count": 73,
   "metadata": {
    "colab": {
     "base_uri": "https://localhost:8080/"
    },
    "id": "JtbRcim7XX3r",
    "outputId": "3e67350f-ddfd-4e26-c4c0-59460f6a287b"
   },
   "outputs": [
    {
     "data": {
      "text/plain": [
       "Pipeline(steps=[('vectoriser',\n",
       "                 TfidfVectorizer(analyzer=<function preprocess_text at 0x168f7ab80>)),\n",
       "                ('classifier',\n",
       "                 SGDClassifier(early_stopping=True, loss='log', penalty='l1',\n",
       "                               random_state=42))])"
      ]
     },
     "execution_count": 73,
     "metadata": {},
     "output_type": "execute_result"
    }
   ],
   "source": [
    "pipe = Pipeline([('vectoriser', vectoriser),\n",
    "                 ('classifier', search.best_estimator_)])\n",
    "\n",
    "pipe.fit(x_train, y_train)"
   ]
  },
  {
   "cell_type": "code",
   "execution_count": 74,
   "metadata": {
    "id": "oFkSxh3wX73W"
   },
   "outputs": [],
   "source": [
    "y_test_pred = pipe.predict(x_test)\n"
   ]
  },
  {
   "cell_type": "code",
   "execution_count": 75,
   "metadata": {
    "colab": {
     "base_uri": "https://localhost:8080/"
    },
    "id": "96T5tDzIYDql",
    "outputId": "661e5647-bcee-4b10-ca34-cd8e77879a77"
   },
   "outputs": [
    {
     "data": {
      "text/plain": [
       "0.87"
      ]
     },
     "execution_count": 75,
     "metadata": {},
     "output_type": "execute_result"
    }
   ],
   "source": [
    "accuracy_score(y_test, y_test_pred)"
   ]
  },
  {
   "cell_type": "code",
   "execution_count": 76,
   "metadata": {
    "colab": {
     "base_uri": "https://localhost:8080/"
    },
    "id": "xwg7lSsNYIJE",
    "outputId": "99a9cc33-96eb-4a0a-f4b5-bf5e8fe2c1a4"
   },
   "outputs": [
    {
     "data": {
      "text/plain": [
       "array([[ 0, 11],\n",
       "       [ 2, 87]])"
      ]
     },
     "execution_count": 76,
     "metadata": {},
     "output_type": "execute_result"
    }
   ],
   "source": [
    "confusion_matrix(y_test, y_test_pred)"
   ]
  },
  {
   "cell_type": "code",
   "execution_count": 80,
   "metadata": {
    "colab": {
     "base_uri": "https://localhost:8080/"
    },
    "id": "IYRwLgT4YNW7",
    "outputId": "4988683f-ab24-46bb-8488-f9bf0521ffc5"
   },
   "outputs": [
    {
     "data": {
      "text/plain": [
       "{'0': {'precision': 0.0, 'recall': 0.0, 'f1-score': 0.0, 'support': 11},\n",
       " '1': {'precision': 0.8877551020408163,\n",
       "  'recall': 0.9775280898876404,\n",
       "  'f1-score': 0.9304812834224598,\n",
       "  'support': 89},\n",
       " 'accuracy': 0.87,\n",
       " 'macro avg': {'precision': 0.44387755102040816,\n",
       "  'recall': 0.4887640449438202,\n",
       "  'f1-score': 0.4652406417112299,\n",
       "  'support': 100},\n",
       " 'weighted avg': {'precision': 0.7901020408163265,\n",
       "  'recall': 0.87,\n",
       "  'f1-score': 0.8281283422459893,\n",
       "  'support': 100}}"
      ]
     },
     "execution_count": 80,
     "metadata": {},
     "output_type": "execute_result"
    }
   ],
   "source": [
    "classification_report(y_test, y_test_pred, output_dict=True)"
   ]
  },
  {
   "cell_type": "markdown",
   "metadata": {
    "id": "KMV36eupYuCj"
   },
   "source": [
    "\n",
    "\n",
    "1.   compare raw text and annotated text\n",
    "2.   extract what was identified as argument\n",
    "3.   0: non argumentative, 1: argumentative\n",
    "4.   load all dataset into training and test\n",
    "5.   preprocess all text -> tf-idf representation\n",
    "6.   cross-validate a SVM classifier\n",
    "7.   -> found the best.estimator_\n",
    "8.   build the pipeline (tf-idf + svm)\n",
    "9.   train the pipeline model on the training set\n",
    "10.  test on testing set\n",
    "\n",
    "11.  and now? How to use it?\n",
    "\n"
   ]
  },
  {
   "cell_type": "code",
   "execution_count": 81,
   "metadata": {
    "id": "nDMjjVGOZxTC"
   },
   "outputs": [],
   "source": [
    "text = \"Coronavirus disease 2019 (COVID-19) is an infectious disease caused by coronavirus-2 (SARS-CoV-2) that causes a severe acute respiratory syndrome, a characteristic hyperinflammatory response, vascular damage, microangiopathy, angiogenesis and widespread thrombosis. Four stages of COVID-19 have been identified: the first stage is characterised by upper respiratory tract infection; the second by the onset of dyspnoea and pneumonia; the third by a worsening clinical scenario dominated by a cytokine storm and the consequent hyperinflammatory state; and the fourth by death or recovery. Currently, no treatment can act specifically against the SARS-CoV-2 infection. Based on the pathological features and different clinical phases of COVID-19, particularly in patients with moderate to severe COVID-19, the classes of drugs used are antiviral agents, inflammation inhibitors/antirheumatic drugs, low molecular weight heparins, plasma, and hyperimmune immunoglobulins. During this emergency period of the COVID-19 outbreak, clinical researchers are using and testing a variety of possible treatments. Based on these premises, this review aims to discuss the most updated pharmacological treatments to effectively act against the SARS-CoV-2 infection and support researchers and clinicians in relation to any current and future developments in curing COVID-19 patients.\""
   ]
  },
  {
   "cell_type": "code",
   "execution_count": 82,
   "metadata": {
    "id": "1MtO9oXUZ2UK"
   },
   "outputs": [],
   "source": [
    "sents = nltk.sent_tokenize(text)"
   ]
  },
  {
   "cell_type": "code",
   "execution_count": 83,
   "metadata": {
    "colab": {
     "base_uri": "https://localhost:8080/"
    },
    "id": "4PYd89r7Z9sW",
    "outputId": "24a8a16e-738b-4ec8-a3c2-3b48ca6df4f7"
   },
   "outputs": [
    {
     "data": {
      "text/plain": [
       "['Coronavirus disease 2019 (COVID-19) is an infectious disease caused by coronavirus-2 (SARS-CoV-2) that causes a severe acute respiratory syndrome, a characteristic hyperinflammatory response, vascular damage, microangiopathy, angiogenesis and widespread thrombosis.',\n",
       " 'Four stages of COVID-19 have been identified: the first stage is characterised by upper respiratory tract infection; the second by the onset of dyspnoea and pneumonia; the third by a worsening clinical scenario dominated by a cytokine storm and the consequent hyperinflammatory state; and the fourth by death or recovery.',\n",
       " 'Currently, no treatment can act specifically against the SARS-CoV-2 infection.',\n",
       " 'Based on the pathological features and different clinical phases of COVID-19, particularly in patients with moderate to severe COVID-19, the classes of drugs used are antiviral agents, inflammation inhibitors/antirheumatic drugs, low molecular weight heparins, plasma, and hyperimmune immunoglobulins.',\n",
       " 'During this emergency period of the COVID-19 outbreak, clinical researchers are using and testing a variety of possible treatments.',\n",
       " 'Based on these premises, this review aims to discuss the most updated pharmacological treatments to effectively act against the SARS-CoV-2 infection and support researchers and clinicians in relation to any current and future developments in curing COVID-19 patients.']"
      ]
     },
     "execution_count": 83,
     "metadata": {},
     "output_type": "execute_result"
    }
   ],
   "source": [
    "sents"
   ]
  },
  {
   "cell_type": "code",
   "execution_count": 84,
   "metadata": {
    "colab": {
     "base_uri": "https://localhost:8080/"
    },
    "id": "y5mJeeryaFTz",
    "outputId": "c4208ac9-15aa-4912-bd80-ab013f1cc423"
   },
   "outputs": [
    {
     "data": {
      "text/plain": [
       "(6,)"
      ]
     },
     "execution_count": 84,
     "metadata": {},
     "output_type": "execute_result"
    }
   ],
   "source": [
    "x_text = pd.Series(sents, name='text')\n",
    "x_text.shape"
   ]
  },
  {
   "cell_type": "code",
   "execution_count": 85,
   "metadata": {
    "id": "TOZ7W26FaRX4"
   },
   "outputs": [],
   "source": [
    "y_new = pipe.predict(x_text)"
   ]
  },
  {
   "cell_type": "code",
   "execution_count": 86,
   "metadata": {
    "colab": {
     "base_uri": "https://localhost:8080/"
    },
    "id": "0v4pJqXDaYfw",
    "outputId": "e6fc311b-5282-4619-f1c6-47a15aafd41b"
   },
   "outputs": [
    {
     "data": {
      "text/plain": [
       "array([1, 1, 1, 1, 1, 0])"
      ]
     },
     "execution_count": 86,
     "metadata": {},
     "output_type": "execute_result"
    }
   ],
   "source": [
    "y_new"
   ]
  },
  {
   "cell_type": "code",
   "execution_count": 87,
   "metadata": {
    "colab": {
     "base_uri": "https://localhost:8080/",
     "height": 234
    },
    "id": "3SiXjvRYacgZ",
    "outputId": "40f9a97a-a57d-40a2-c1ea-786121f1911f"
   },
   "outputs": [
    {
     "data": {
      "text/html": [
       "<div>\n",
       "<style scoped>\n",
       "    .dataframe tbody tr th:only-of-type {\n",
       "        vertical-align: middle;\n",
       "    }\n",
       "\n",
       "    .dataframe tbody tr th {\n",
       "        vertical-align: top;\n",
       "    }\n",
       "\n",
       "    .dataframe thead th {\n",
       "        text-align: right;\n",
       "    }\n",
       "</style>\n",
       "<table border=\"1\" class=\"dataframe\">\n",
       "  <thead>\n",
       "    <tr style=\"text-align: right;\">\n",
       "      <th></th>\n",
       "      <th>text</th>\n",
       "      <th>pred</th>\n",
       "    </tr>\n",
       "  </thead>\n",
       "  <tbody>\n",
       "    <tr>\n",
       "      <th>0</th>\n",
       "      <td>Coronavirus disease 2019 (COVID-19) is an infe...</td>\n",
       "      <td>1</td>\n",
       "    </tr>\n",
       "    <tr>\n",
       "      <th>1</th>\n",
       "      <td>Four stages of COVID-19 have been identified: ...</td>\n",
       "      <td>1</td>\n",
       "    </tr>\n",
       "    <tr>\n",
       "      <th>2</th>\n",
       "      <td>Currently, no treatment can act specifically a...</td>\n",
       "      <td>1</td>\n",
       "    </tr>\n",
       "    <tr>\n",
       "      <th>3</th>\n",
       "      <td>Based on the pathological features and differe...</td>\n",
       "      <td>1</td>\n",
       "    </tr>\n",
       "    <tr>\n",
       "      <th>4</th>\n",
       "      <td>During this emergency period of the COVID-19 o...</td>\n",
       "      <td>1</td>\n",
       "    </tr>\n",
       "    <tr>\n",
       "      <th>5</th>\n",
       "      <td>Based on these premises, this review aims to d...</td>\n",
       "      <td>0</td>\n",
       "    </tr>\n",
       "  </tbody>\n",
       "</table>\n",
       "</div>"
      ],
      "text/plain": [
       "                                                text  pred\n",
       "0  Coronavirus disease 2019 (COVID-19) is an infe...     1\n",
       "1  Four stages of COVID-19 have been identified: ...     1\n",
       "2  Currently, no treatment can act specifically a...     1\n",
       "3  Based on the pathological features and differe...     1\n",
       "4  During this emergency period of the COVID-19 o...     1\n",
       "5  Based on these premises, this review aims to d...     0"
      ]
     },
     "execution_count": 87,
     "metadata": {},
     "output_type": "execute_result"
    }
   ],
   "source": [
    "pd.concat([x_text, pd.Series(y_new, name='pred')], axis=1)"
   ]
  }
 ],
 "metadata": {
  "colab": {
   "collapsed_sections": [],
   "name": "1.ipynb",
   "provenance": []
  },
  "kernelspec": {
   "display_name": "Python 3 (ipykernel)",
   "language": "python",
   "name": "python3"
  },
  "language_info": {
   "codemirror_mode": {
    "name": "ipython",
    "version": 3
   },
   "file_extension": ".py",
   "mimetype": "text/x-python",
   "name": "python",
   "nbconvert_exporter": "python",
   "pygments_lexer": "ipython3",
   "version": "3.9.4"
  }
 },
 "nbformat": 4,
 "nbformat_minor": 1
}
