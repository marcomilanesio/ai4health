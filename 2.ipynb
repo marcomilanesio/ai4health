{
  "nbformat": 4,
  "nbformat_minor": 0,
  "metadata": {
    "colab": {
      "name": "2.ipynb",
      "provenance": [],
      "collapsed_sections": []
    },
    "kernelspec": {
      "display_name": "Python 3",
      "language": "python",
      "name": "python3"
    },
    "language_info": {
      "codemirror_mode": {
        "name": "ipython",
        "version": 3
      },
      "file_extension": ".py",
      "mimetype": "text/x-python",
      "name": "python",
      "nbconvert_exporter": "python",
      "pygments_lexer": "ipython3",
      "version": "3.8.5"
    }
  },
  "cells": [
    {
      "cell_type": "markdown",
      "metadata": {
        "id": "GdEu4aFr7EwI"
      },
      "source": [
        "## Argument Mining Practical Session\n",
        "\n",
        "## PART II - Glove\n",
        "\n",
        "To use this on Colab, run the following cells. (Authentication required).\n",
        "\n",
        "**IMPORTANT**: the folder `share` exists on **my** Google Drive. Make sure to change this with a folder of your choice on your Google Drive."
      ]
    },
    {
      "cell_type": "code",
      "metadata": {
        "colab": {
          "base_uri": "https://localhost:8080/"
        },
        "id": "e1PAtUQQ4XRp",
        "outputId": "7a1543ef-4f18-44a2-d30c-26643877cf1c"
      },
      "source": [
        "from google.colab import drive\n",
        "drive.mount('/content/gdrive')"
      ],
      "execution_count": 1,
      "outputs": [
        {
          "output_type": "stream",
          "text": [
            "Mounted at /content/gdrive\n"
          ],
          "name": "stdout"
        }
      ]
    },
    {
      "cell_type": "markdown",
      "metadata": {
        "id": "UZ3PnvxpZWir"
      },
      "source": [
        "The cell above should result in an `already mounted` message."
      ]
    },
    {
      "cell_type": "markdown",
      "metadata": {
        "id": "lJTUpRVLZWis"
      },
      "source": [
        "Folder `share` exists on my Google Drive. I navigate to this folder to store there the data."
      ]
    },
    {
      "cell_type": "code",
      "metadata": {
        "colab": {
          "base_uri": "https://localhost:8080/"
        },
        "id": "JtmnvrYp5iBe",
        "outputId": "2fd08684-d0db-4e88-b4e5-b587322ebbca"
      },
      "source": [
        "%cd gdrive/MyDrive/share"
      ],
      "execution_count": 2,
      "outputs": [
        {
          "output_type": "stream",
          "text": [
            "/content/gdrive/MyDrive/share\n"
          ],
          "name": "stdout"
        }
      ]
    },
    {
      "cell_type": "markdown",
      "metadata": {
        "id": "TBaZ0hMe7Tq2"
      },
      "source": [
        "Make sure you have the content downloaded in the previous notebook."
      ]
    },
    {
      "cell_type": "code",
      "metadata": {
        "id": "WPSe0d2c54uT",
        "colab": {
          "base_uri": "https://localhost:8080/"
        },
        "outputId": "be46ec3a-0e14-4ae3-f07e-f9da20ed087c"
      },
      "source": [
        "!ls"
      ],
      "execution_count": 3,
      "outputs": [
        {
          "output_type": "stream",
          "text": [
            "abstrct\t\t   glove.6B.200d.txt  glove.6B.50d.txt\n",
            "glove.6B.100d.txt  glove.6B.300d.txt  glove.6B.zip\n"
          ],
          "name": "stdout"
        }
      ]
    },
    {
      "cell_type": "markdown",
      "metadata": {
        "id": "wdODhh83ZWiu"
      },
      "source": [
        "If you haven't already:"
      ]
    },
    {
      "cell_type": "code",
      "metadata": {
        "id": "niG3RRbJZWiv"
      },
      "source": [
        "! unzip glove.6B.zip"
      ],
      "execution_count": null,
      "outputs": []
    },
    {
      "cell_type": "markdown",
      "metadata": {
        "id": "UYEQsoYVZWiv"
      },
      "source": [
        "Then (if you want) you can delete from your Google Drive all the extracted files **except** the file `glove_6B_100d.txt`. This will be the one we use."
      ]
    },
    {
      "cell_type": "markdown",
      "metadata": {
        "id": "F_-bwMTC7bwg"
      },
      "source": [
        "We're good to go.\n",
        "\n",
        "## Premise vs Claim Classification\n",
        "\n",
        "**IMPORTANT** If you run locally (NOT COLAB) start from here.\n",
        "\n",
        "Let's begin with some imports..."
      ]
    },
    {
      "cell_type": "code",
      "metadata": {
        "id": "HYxqdaIK7CaN"
      },
      "source": [
        "import numpy as np\n",
        "import pandas as pd\n",
        "\n",
        "from keras.preprocessing.text import Tokenizer\n",
        "from keras.preprocessing.sequence import pad_sequences\n",
        "from keras.models import Sequential\n",
        "from keras.layers import Dense\n",
        "from keras.layers import Flatten\n",
        "from keras.layers import Embedding"
      ],
      "execution_count": 4,
      "outputs": []
    },
    {
      "cell_type": "markdown",
      "metadata": {
        "id": "mmXgTS1SZWix"
      },
      "source": [
        "I spare you some time by importing functions we implemented in the last notebook."
      ]
    },
    {
      "cell_type": "code",
      "metadata": {
        "id": "KpM4EL0SZWiy"
      },
      "source": [
        "import os\n",
        "import re\n",
        "\n",
        "datadir = './abstrct/AbstRCT_corpus/data/train/neoplasm_train'\n",
        "annotated = [f for f in os.listdir(datadir) if f.endswith('.ann')]\n",
        "\n",
        "testdir = './abstrct/AbstRCT_corpus/data/test/neoplasm_test'\n",
        "testannotated = [f for f in os.listdir(testdir) if f.endswith('.ann')]\n",
        "\n",
        "def extract_annotated(fpath):\n",
        "    res = []\n",
        "    with open(fpath, 'r') as infile:\n",
        "        for row in infile.readlines():\n",
        "            row = row.strip()\n",
        "            if re.match('^T\\d', row):\n",
        "                name, annotation, text = row.split('\\t')\n",
        "                fname = os.path.basename(fpath).replace('.ann', '')    \n",
        "                name = f'{fname}-{name}'\n",
        "                is_arg, start, end = annotation.split()\n",
        "                start = int(start)\n",
        "                end = int(end)\n",
        "                res.append((name, is_arg, start, end, text))\n",
        "    return res"
      ],
      "execution_count": 5,
      "outputs": []
    },
    {
      "cell_type": "code",
      "metadata": {
        "id": "Cry-uyzipvk4"
      },
      "source": [
        "from collections import defaultdict\n",
        "\n",
        "train_ann_dict = defaultdict(list)\n",
        "test_ann_dict = defaultdict(list)\n",
        "\n",
        "for f in annotated:\n",
        "  fname = f.replace('.ann', '')\n",
        "  filepath = os.path.join(datadir, f)\n",
        "  train_ann_dict[fname] = extract_annotated(filepath)\n",
        "\n",
        "for f in testannotated:\n",
        "  fname = f.replace('.ann', '')\n",
        "  filepath = os.path.join(testdir, f)\n",
        "  test_ann_dict[fname] = extract_annotated(filepath)\n"
      ],
      "execution_count": 6,
      "outputs": []
    },
    {
      "cell_type": "code",
      "metadata": {
        "id": "THgLpT3lqV8p"
      },
      "source": [
        "train_data = []\n",
        "for k, list_ in train_ann_dict.items():\n",
        "  for tup in list_:\n",
        "    train_data.append((tup[1], tup[4]))\n",
        "\n",
        "test_data = []\n",
        "for k, list_ in test_ann_dict.items():\n",
        "  for tup in list_:\n",
        "    test_data.append((tup[1], tup[4]))\n"
      ],
      "execution_count": 7,
      "outputs": []
    },
    {
      "cell_type": "code",
      "metadata": {
        "colab": {
          "base_uri": "https://localhost:8080/"
        },
        "id": "W7tOguk3q8kw",
        "outputId": "d5e5c789-4103-49c0-a5ee-4301a072d3e8"
      },
      "source": [
        "train_data[0]"
      ],
      "execution_count": 10,
      "outputs": [
        {
          "output_type": "execute_result",
          "data": {
            "text/plain": [
              "('MajorClaim',\n",
              " 'A combination of mitoxantrone plus prednisone is preferable to prednisone alone for reduction of pain in men with metastatic, hormone-resistant, prostate cancer.')"
            ]
          },
          "metadata": {
            "tags": []
          },
          "execution_count": 10
        }
      ]
    },
    {
      "cell_type": "code",
      "metadata": {
        "id": "bhuT6GjLrRmU"
      },
      "source": [
        "# ('sentence', 1)\n",
        "train_data = [ (tup[1], 0) if tup[0] == 'Premise' else (tup[1], 1) for tup in train_data ]\n",
        "test_data = [ (tup[1], 0) if tup[0] == 'Premise' else (tup[1], 1) for tup in test_data ]\n"
      ],
      "execution_count": 11,
      "outputs": []
    },
    {
      "cell_type": "code",
      "metadata": {
        "colab": {
          "base_uri": "https://localhost:8080/"
        },
        "id": "Qeri4BHVrhTC",
        "outputId": "d4ee037e-53a7-49eb-ca5b-1f4c9495b0a1"
      },
      "source": [
        "train_data[0]"
      ],
      "execution_count": 12,
      "outputs": [
        {
          "output_type": "execute_result",
          "data": {
            "text/plain": [
              "('A combination of mitoxantrone plus prednisone is preferable to prednisone alone for reduction of pain in men with metastatic, hormone-resistant, prostate cancer.',\n",
              " 1)"
            ]
          },
          "metadata": {
            "tags": []
          },
          "execution_count": 12
        }
      ]
    },
    {
      "cell_type": "code",
      "metadata": {
        "id": "xaS0Urrqrxql"
      },
      "source": [
        "train = pd.DataFrame(train_data, columns=['text', 'label'])\n",
        "test = pd.DataFrame(test_data, columns=['text', 'label'])"
      ],
      "execution_count": 13,
      "outputs": []
    },
    {
      "cell_type": "code",
      "metadata": {
        "colab": {
          "base_uri": "https://localhost:8080/",
          "height": 203
        },
        "id": "N2BoqloCsBmX",
        "outputId": "b7468fca-f93f-4a84-eb35-282f5b215c42"
      },
      "source": [
        "test.head()"
      ],
      "execution_count": 15,
      "outputs": [
        {
          "output_type": "execute_result",
          "data": {
            "text/html": [
              "<div>\n",
              "<style scoped>\n",
              "    .dataframe tbody tr th:only-of-type {\n",
              "        vertical-align: middle;\n",
              "    }\n",
              "\n",
              "    .dataframe tbody tr th {\n",
              "        vertical-align: top;\n",
              "    }\n",
              "\n",
              "    .dataframe thead th {\n",
              "        text-align: right;\n",
              "    }\n",
              "</style>\n",
              "<table border=\"1\" class=\"dataframe\">\n",
              "  <thead>\n",
              "    <tr style=\"text-align: right;\">\n",
              "      <th></th>\n",
              "      <th>text</th>\n",
              "      <th>label</th>\n",
              "    </tr>\n",
              "  </thead>\n",
              "  <tbody>\n",
              "    <tr>\n",
              "      <th>0</th>\n",
              "      <td>octreotide, the long acting somatostatin analo...</td>\n",
              "      <td>1</td>\n",
              "    </tr>\n",
              "    <tr>\n",
              "      <th>1</th>\n",
              "      <td>The patients treated with octreotide showed a ...</td>\n",
              "      <td>0</td>\n",
              "    </tr>\n",
              "    <tr>\n",
              "      <th>2</th>\n",
              "      <td>Monitoring of tumour size changes (US-TC) over...</td>\n",
              "      <td>0</td>\n",
              "    </tr>\n",
              "    <tr>\n",
              "      <th>3</th>\n",
              "      <td>whereas neoplasm grew according to an almost e...</td>\n",
              "      <td>0</td>\n",
              "    </tr>\n",
              "    <tr>\n",
              "      <th>4</th>\n",
              "      <td>survival was better in treated patients</td>\n",
              "      <td>0</td>\n",
              "    </tr>\n",
              "  </tbody>\n",
              "</table>\n",
              "</div>"
            ],
            "text/plain": [
              "                                                text  label\n",
              "0  octreotide, the long acting somatostatin analo...      1\n",
              "1  The patients treated with octreotide showed a ...      0\n",
              "2  Monitoring of tumour size changes (US-TC) over...      0\n",
              "3  whereas neoplasm grew according to an almost e...      0\n",
              "4            survival was better in treated patients      0"
            ]
          },
          "metadata": {
            "tags": []
          },
          "execution_count": 15
        }
      ]
    },
    {
      "cell_type": "code",
      "metadata": {
        "id": "8CgJCxO0sQlT"
      },
      "source": [
        "docs = list(train['text'])\n",
        "labels = list(train['label'])\n",
        "test_docs = list(test['text'])\n",
        "test_labels = list(test['label'])"
      ],
      "execution_count": 16,
      "outputs": []
    },
    {
      "cell_type": "code",
      "metadata": {
        "id": "wUWTWKEHsjTu"
      },
      "source": [
        "t = Tokenizer()\n",
        "t.fit_on_texts(docs)"
      ],
      "execution_count": 17,
      "outputs": []
    },
    {
      "cell_type": "code",
      "metadata": {
        "id": "VDYxPnfJs1xd"
      },
      "source": [
        "vocab_size = len(t.word_index) + 1"
      ],
      "execution_count": 18,
      "outputs": []
    },
    {
      "cell_type": "code",
      "metadata": {
        "id": "rk344_YotCvr"
      },
      "source": [
        "encoded_docs = t.texts_to_sequences(docs)"
      ],
      "execution_count": 20,
      "outputs": []
    },
    {
      "cell_type": "code",
      "metadata": {
        "colab": {
          "base_uri": "https://localhost:8080/"
        },
        "id": "cbclmT6qtMN1",
        "outputId": "ce788a6f-0b64-4108-8c6a-17814b93a661"
      },
      "source": [
        "len(encoded_docs)"
      ],
      "execution_count": 23,
      "outputs": [
        {
          "output_type": "execute_result",
          "data": {
            "text/plain": [
              "2267"
            ]
          },
          "metadata": {
            "tags": []
          },
          "execution_count": 23
        }
      ]
    },
    {
      "cell_type": "code",
      "metadata": {
        "colab": {
          "base_uri": "https://localhost:8080/"
        },
        "id": "aHVFz4NBtTaq",
        "outputId": "a8782450-2727-4c3b-9361-f92dd8197513"
      },
      "source": [
        "encoded_docs[0]"
      ],
      "execution_count": 24,
      "outputs": [
        {
          "output_type": "execute_result",
          "data": {
            "text/plain": [
              "[12,\n",
              " 160,\n",
              " 4,\n",
              " 1064,\n",
              " 145,\n",
              " 362,\n",
              " 48,\n",
              " 1828,\n",
              " 8,\n",
              " 362,\n",
              " 177,\n",
              " 11,\n",
              " 189,\n",
              " 4,\n",
              " 65,\n",
              " 2,\n",
              " 335,\n",
              " 7,\n",
              " 323,\n",
              " 429,\n",
              " 1492,\n",
              " 404,\n",
              " 31]"
            ]
          },
          "metadata": {
            "tags": []
          },
          "execution_count": 24
        }
      ]
    },
    {
      "cell_type": "code",
      "metadata": {
        "colab": {
          "base_uri": "https://localhost:8080/"
        },
        "id": "cK-9rCFjtfhz",
        "outputId": "b5da57f4-2fc2-4e81-ca95-4f6ce733317d"
      },
      "source": [
        "t = Tokenizer()\n",
        "t.fit_on_texts(test_docs)\n",
        "test_encoded_docs = t.texts_to_sequences(test_docs)\n",
        "print(len(test_encoded_docs))"
      ],
      "execution_count": 25,
      "outputs": [
        {
          "output_type": "stream",
          "text": [
            "686\n"
          ],
          "name": "stdout"
        }
      ]
    },
    {
      "cell_type": "code",
      "metadata": {
        "colab": {
          "base_uri": "https://localhost:8080/"
        },
        "id": "YXT94UoutzWd",
        "outputId": "963289cd-0c09-4bcf-f3ca-ac1e783f2233"
      },
      "source": [
        "max([len(x) for x in encoded_docs])"
      ],
      "execution_count": 30,
      "outputs": [
        {
          "output_type": "execute_result",
          "data": {
            "text/plain": [
              "122"
            ]
          },
          "metadata": {
            "tags": []
          },
          "execution_count": 30
        }
      ]
    },
    {
      "cell_type": "code",
      "metadata": {
        "colab": {
          "base_uri": "https://localhost:8080/"
        },
        "id": "6A5AC0SR1xsK",
        "outputId": "fe039748-eeda-4ba2-c6fc-1c53d01d07a2"
      },
      "source": [
        "!ls"
      ],
      "execution_count": 47,
      "outputs": [
        {
          "output_type": "stream",
          "text": [
            "abstrct\t\t   glove.6B.200d.txt  glove.6B.50d.txt\n",
            "glove.6B.100d.txt  glove.6B.300d.txt  glove.6B.zip\n"
          ],
          "name": "stdout"
        }
      ]
    },
    {
      "cell_type": "code",
      "metadata": {
        "colab": {
          "base_uri": "https://localhost:8080/"
        },
        "id": "OhqQGHveui4T",
        "outputId": "7df76868-08f7-4110-fece-fdb2eb67678c"
      },
      "source": [
        "max_length = 122\n",
        "padded_docs = pad_sequences(encoded_docs, maxlen=max_length, padding='post')\n",
        "len(padded_docs)"
      ],
      "execution_count": 54,
      "outputs": [
        {
          "output_type": "execute_result",
          "data": {
            "text/plain": [
              "2267"
            ]
          },
          "metadata": {
            "tags": []
          },
          "execution_count": 54
        }
      ]
    },
    {
      "cell_type": "code",
      "metadata": {
        "id": "jAdEkxinvKag"
      },
      "source": [
        "test_padded_docs = pad_sequences(test_encoded_docs, maxlen=max_length, padding='post')"
      ],
      "execution_count": 55,
      "outputs": []
    },
    {
      "cell_type": "code",
      "metadata": {
        "colab": {
          "base_uri": "https://localhost:8080/"
        },
        "id": "20tFtqThvQmu",
        "outputId": "fd6a2d3c-b92a-4822-f403-6d9ebd5eb4f5"
      },
      "source": [
        "padded_docs[0]"
      ],
      "execution_count": 34,
      "outputs": [
        {
          "output_type": "execute_result",
          "data": {
            "text/plain": [
              "array([  12,  160,    4, 1064,  145,  362,   48, 1828,    8,  362,  177,\n",
              "         11,  189,    4,   65,    2,  335,    7,  323,  429, 1492,  404,\n",
              "         31,    0,    0,    0,    0,    0,    0,    0,    0,    0,    0,\n",
              "          0,    0,    0,    0,    0,    0,    0,    0,    0,    0,    0,\n",
              "          0,    0,    0,    0,    0,    0,    0,    0,    0,    0,    0,\n",
              "          0,    0,    0,    0,    0,    0,    0,    0,    0,    0,    0,\n",
              "          0,    0,    0,    0,    0,    0,    0,    0,    0,    0,    0,\n",
              "          0,    0,    0,    0,    0,    0,    0,    0,    0,    0,    0,\n",
              "          0,    0,    0,    0,    0,    0,    0,    0,    0,    0,    0,\n",
              "          0,    0,    0,    0,    0,    0,    0,    0,    0,    0,    0,\n",
              "          0,    0,    0,    0,    0,    0,    0,    0,    0,    0,    0,\n",
              "          0,    0,    0,    0,    0,    0,    0,    0,    0], dtype=int32)"
            ]
          },
          "metadata": {
            "tags": []
          },
          "execution_count": 34
        }
      ]
    },
    {
      "cell_type": "code",
      "metadata": {
        "colab": {
          "base_uri": "https://localhost:8080/"
        },
        "id": "P4wqHYAsvx6l",
        "outputId": "fca67566-900e-48c3-e4d1-2609df8dd4e1"
      },
      "source": [
        "embeddings_index = dict()\n",
        "f = open('./glove.6B.300d.txt')\n",
        "for line in f:\n",
        "  values = line.split()\n",
        "  word = values[0]\n",
        "  coefs = np.asarray(values[1:], dtype='float32')\n",
        "  embeddings_index[word] = coefs\n",
        "f.close()\n",
        "print(f'{len(embeddings_index)} word vectors loaded')"
      ],
      "execution_count": 48,
      "outputs": [
        {
          "output_type": "stream",
          "text": [
            "400000 word vectors loaded\n"
          ],
          "name": "stdout"
        }
      ]
    },
    {
      "cell_type": "code",
      "metadata": {
        "id": "n_92RCqnwftH"
      },
      "source": [
        "embeddings_index['the']"
      ],
      "execution_count": null,
      "outputs": []
    },
    {
      "cell_type": "code",
      "metadata": {
        "id": "OHox4Ediw3ai"
      },
      "source": [
        "embedding_matrix = np.zeros((vocab_size, 300))\n",
        "for word, i in t.word_index.items():\n",
        "  embedding_vector = embeddings_index.get(word)\n",
        "  if embedding_vector is not None:\n",
        "    embedding_matrix[i] = embedding_vector"
      ],
      "execution_count": 49,
      "outputs": []
    },
    {
      "cell_type": "code",
      "metadata": {
        "id": "ReWKsUPPxodo"
      },
      "source": [
        "embedding_matrix"
      ],
      "execution_count": null,
      "outputs": []
    },
    {
      "cell_type": "code",
      "metadata": {
        "id": "wWNh8Dotx2E8"
      },
      "source": [
        "# 1 - loaded all annotation\n",
        "# 2 - tokenize -> encoded_docs (train and test)\n",
        "# 3 - pad to 130 length (depends on the dataset (max was 122))\n",
        "# 4 - loaded word embeddings for 400K words {word: [coeffs]}\n",
        "# 5 - embedding_matrix: words in dataset as rows, and all coeffs for each rows (4K, 100)\n",
        "# 6 - build a neural network using the pre-trained weights for the WE features"
      ],
      "execution_count": 41,
      "outputs": []
    },
    {
      "cell_type": "code",
      "metadata": {
        "colab": {
          "base_uri": "https://localhost:8080/"
        },
        "id": "vhRO_AFNynyg",
        "outputId": "033ec519-ad6c-4256-dd81-4e68b18086f5"
      },
      "source": [
        "model = Sequential()\n",
        "\n",
        "e = Embedding(vocab_size, 300, weights=[embedding_matrix], input_length=122, trainable=False)\n",
        "\n",
        "model.add(e)\n",
        "model.add(Flatten())\n",
        "model.add(Dense(1, activation='sigmoid'))\n",
        "\n",
        "model.compile(optimizer='adam', loss='binary_crossentropy', metrics=['accuracy'])\n",
        "print(model.summary())"
      ],
      "execution_count": 56,
      "outputs": [
        {
          "output_type": "stream",
          "text": [
            "Model: \"sequential_2\"\n",
            "_________________________________________________________________\n",
            "Layer (type)                 Output Shape              Param #   \n",
            "=================================================================\n",
            "embedding_2 (Embedding)      (None, 122, 300)          1266600   \n",
            "_________________________________________________________________\n",
            "flatten_2 (Flatten)          (None, 36600)             0         \n",
            "_________________________________________________________________\n",
            "dense_2 (Dense)              (None, 1)                 36601     \n",
            "=================================================================\n",
            "Total params: 1,303,201\n",
            "Trainable params: 36,601\n",
            "Non-trainable params: 1,266,600\n",
            "_________________________________________________________________\n",
            "None\n"
          ],
          "name": "stdout"
        }
      ]
    },
    {
      "cell_type": "code",
      "metadata": {
        "colab": {
          "base_uri": "https://localhost:8080/"
        },
        "id": "4oTjRgGX0tRl",
        "outputId": "fe83cacd-48da-4ca7-cf6a-9073d10a149e"
      },
      "source": [
        "model.fit(padded_docs, np.array(labels), epochs=50, verbose=0)"
      ],
      "execution_count": 57,
      "outputs": [
        {
          "output_type": "execute_result",
          "data": {
            "text/plain": [
              "<tensorflow.python.keras.callbacks.History at 0x7fcb946bac18>"
            ]
          },
          "metadata": {
            "tags": []
          },
          "execution_count": 57
        }
      ]
    },
    {
      "cell_type": "code",
      "metadata": {
        "id": "oaDAdtrv07_f"
      },
      "source": [
        "loss, accuracy = model.evaluate(test_padded_docs, np.array(test_labels), verbose=0)"
      ],
      "execution_count": 58,
      "outputs": []
    },
    {
      "cell_type": "code",
      "metadata": {
        "colab": {
          "base_uri": "https://localhost:8080/"
        },
        "id": "RwDEsWO11GiD",
        "outputId": "50fd9aa3-fc29-498c-a498-9773927e9dc1"
      },
      "source": [
        "accuracy * 100"
      ],
      "execution_count": 59,
      "outputs": [
        {
          "output_type": "execute_result",
          "data": {
            "text/plain": [
              "63.55684995651245"
            ]
          },
          "metadata": {
            "tags": []
          },
          "execution_count": 59
        }
      ]
    }
  ]
}